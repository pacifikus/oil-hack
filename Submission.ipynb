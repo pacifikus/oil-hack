{
  "nbformat": 4,
  "nbformat_minor": 0,
  "metadata": {
    "colab": {
      "name": "submit1.ipynb",
      "provenance": [],
      "collapsed_sections": [
        "SWNnmZFdJd4B"
      ],
      "toc_visible": true,
      "include_colab_link": true
    },
    "kernelspec": {
      "display_name": "Python 3",
      "language": "python",
      "name": "python3"
    },
    "language_info": {
      "codemirror_mode": {
        "name": "ipython",
        "version": 3
      },
      "file_extension": ".py",
      "mimetype": "text/x-python",
      "name": "python",
      "nbconvert_exporter": "python",
      "pygments_lexer": "ipython3",
      "version": "3.7.3"
    },
    "widgets": {
      "application/vnd.jupyter.widget-state+json": {
        "d9226b3a2f844580924170160eb3063f": {
          "model_module": "@jupyter-widgets/controls",
          "model_name": "IntProgressModel",
          "state": {
            "_view_name": "ProgressView",
            "style": "IPY_MODEL_33a1bba1a85642ddbae7941aa0cacbbf",
            "_dom_classes": [],
            "description": "Processing: ",
            "_model_name": "IntProgressModel",
            "bar_style": "",
            "max": 3,
            "_view_module": "@jupyter-widgets/controls",
            "_model_module_version": "1.5.0",
            "value": 3,
            "_view_count": null,
            "_view_module_version": "1.5.0",
            "orientation": "horizontal",
            "min": 0,
            "description_tooltip": null,
            "_model_module": "@jupyter-widgets/controls",
            "layout": "IPY_MODEL_246dc0e719e24e8f8677966b212c51e5"
          }
        },
        "33a1bba1a85642ddbae7941aa0cacbbf": {
          "model_module": "@jupyter-widgets/controls",
          "model_name": "ProgressStyleModel",
          "state": {
            "_view_name": "StyleView",
            "_model_name": "ProgressStyleModel",
            "description_width": "",
            "_view_module": "@jupyter-widgets/base",
            "_model_module_version": "1.5.0",
            "_view_count": null,
            "_view_module_version": "1.2.0",
            "bar_color": null,
            "_model_module": "@jupyter-widgets/controls"
          }
        },
        "246dc0e719e24e8f8677966b212c51e5": {
          "model_module": "@jupyter-widgets/base",
          "model_name": "LayoutModel",
          "state": {
            "_view_name": "LayoutView",
            "grid_template_rows": null,
            "right": null,
            "justify_content": null,
            "_view_module": "@jupyter-widgets/base",
            "overflow": null,
            "_model_module_version": "1.2.0",
            "_view_count": null,
            "flex_flow": null,
            "width": null,
            "min_width": null,
            "border": null,
            "align_items": null,
            "bottom": null,
            "_model_module": "@jupyter-widgets/base",
            "top": null,
            "grid_column": null,
            "overflow_y": null,
            "overflow_x": null,
            "grid_auto_flow": null,
            "grid_area": null,
            "grid_template_columns": null,
            "flex": null,
            "_model_name": "LayoutModel",
            "justify_items": null,
            "grid_row": null,
            "max_height": null,
            "align_content": null,
            "visibility": null,
            "align_self": null,
            "height": null,
            "min_height": null,
            "padding": null,
            "grid_auto_rows": null,
            "grid_gap": null,
            "max_width": null,
            "order": null,
            "_view_module_version": "1.2.0",
            "grid_template_areas": null,
            "object_position": null,
            "object_fit": null,
            "grid_auto_columns": null,
            "margin": null,
            "display": null,
            "left": null
          }
        },
        "3a43a35f357c4d98ab6be75b5b18c594": {
          "model_module": "@jupyter-widgets/controls",
          "model_name": "TextModel",
          "state": {
            "_view_name": "TextView",
            "style": "IPY_MODEL_dbf611b54f724b72b023787e3010bb17",
            "_dom_classes": [],
            "description": "",
            "_model_name": "TextModel",
            "placeholder": "​",
            "_view_module": "@jupyter-widgets/controls",
            "_model_module_version": "1.5.0",
            "value": "Following data types have been inferred automatically, if they are correct press enter to continue or type 'quit' otherwise.",
            "_view_count": null,
            "disabled": false,
            "_view_module_version": "1.5.0",
            "continuous_update": true,
            "description_tooltip": null,
            "_model_module": "@jupyter-widgets/controls",
            "layout": "IPY_MODEL_ac20ccb62ba44e0ab0966c23d4f79219"
          }
        },
        "dbf611b54f724b72b023787e3010bb17": {
          "model_module": "@jupyter-widgets/controls",
          "model_name": "DescriptionStyleModel",
          "state": {
            "_view_name": "StyleView",
            "_model_name": "DescriptionStyleModel",
            "description_width": "",
            "_view_module": "@jupyter-widgets/base",
            "_model_module_version": "1.5.0",
            "_view_count": null,
            "_view_module_version": "1.2.0",
            "_model_module": "@jupyter-widgets/controls"
          }
        },
        "ac20ccb62ba44e0ab0966c23d4f79219": {
          "model_module": "@jupyter-widgets/base",
          "model_name": "LayoutModel",
          "state": {
            "_view_name": "LayoutView",
            "grid_template_rows": null,
            "right": null,
            "justify_content": null,
            "_view_module": "@jupyter-widgets/base",
            "overflow": null,
            "_model_module_version": "1.2.0",
            "_view_count": null,
            "flex_flow": null,
            "width": "100%",
            "min_width": null,
            "border": null,
            "align_items": null,
            "bottom": null,
            "_model_module": "@jupyter-widgets/base",
            "top": null,
            "grid_column": null,
            "overflow_y": null,
            "overflow_x": null,
            "grid_auto_flow": null,
            "grid_area": null,
            "grid_template_columns": null,
            "flex": null,
            "_model_name": "LayoutModel",
            "justify_items": null,
            "grid_row": null,
            "max_height": null,
            "align_content": null,
            "visibility": null,
            "align_self": null,
            "height": null,
            "min_height": null,
            "padding": null,
            "grid_auto_rows": null,
            "grid_gap": null,
            "max_width": null,
            "order": null,
            "_view_module_version": "1.2.0",
            "grid_template_areas": null,
            "object_position": null,
            "object_fit": null,
            "grid_auto_columns": null,
            "margin": null,
            "display": null,
            "left": null
          }
        },
        "dd9e14fed62143cea371da0edc9a7a39": {
          "model_module": "@jupyter-widgets/controls",
          "model_name": "IntProgressModel",
          "state": {
            "_view_name": "ProgressView",
            "style": "IPY_MODEL_3cd30b3543bc47ad943545d462e34c38",
            "_dom_classes": [],
            "description": "Processing: ",
            "_model_name": "IntProgressModel",
            "bar_style": "",
            "max": 44,
            "_view_module": "@jupyter-widgets/controls",
            "_model_module_version": "1.5.0",
            "value": 44,
            "_view_count": null,
            "_view_module_version": "1.5.0",
            "orientation": "horizontal",
            "min": 0,
            "description_tooltip": null,
            "_model_module": "@jupyter-widgets/controls",
            "layout": "IPY_MODEL_b1ae342a61684388bbec233acba42aad"
          }
        },
        "3cd30b3543bc47ad943545d462e34c38": {
          "model_module": "@jupyter-widgets/controls",
          "model_name": "ProgressStyleModel",
          "state": {
            "_view_name": "StyleView",
            "_model_name": "ProgressStyleModel",
            "description_width": "",
            "_view_module": "@jupyter-widgets/base",
            "_model_module_version": "1.5.0",
            "_view_count": null,
            "_view_module_version": "1.2.0",
            "bar_color": null,
            "_model_module": "@jupyter-widgets/controls"
          }
        },
        "b1ae342a61684388bbec233acba42aad": {
          "model_module": "@jupyter-widgets/base",
          "model_name": "LayoutModel",
          "state": {
            "_view_name": "LayoutView",
            "grid_template_rows": null,
            "right": null,
            "justify_content": null,
            "_view_module": "@jupyter-widgets/base",
            "overflow": null,
            "_model_module_version": "1.2.0",
            "_view_count": null,
            "flex_flow": null,
            "width": null,
            "min_width": null,
            "border": null,
            "align_items": null,
            "bottom": null,
            "_model_module": "@jupyter-widgets/base",
            "top": null,
            "grid_column": null,
            "overflow_y": null,
            "overflow_x": null,
            "grid_auto_flow": null,
            "grid_area": null,
            "grid_template_columns": null,
            "flex": null,
            "_model_name": "LayoutModel",
            "justify_items": null,
            "grid_row": null,
            "max_height": null,
            "align_content": null,
            "visibility": null,
            "align_self": null,
            "height": null,
            "min_height": null,
            "padding": null,
            "grid_auto_rows": null,
            "grid_gap": null,
            "max_width": null,
            "order": null,
            "_view_module_version": "1.2.0",
            "grid_template_areas": null,
            "object_position": null,
            "object_fit": null,
            "grid_auto_columns": null,
            "margin": null,
            "display": null,
            "left": null
          }
        },
        "11b5307b0c5c441f9c21dda98ef01a46": {
          "model_module": "@jupyter-widgets/controls",
          "model_name": "VBoxModel",
          "state": {
            "_view_name": "VBoxView",
            "_dom_classes": [
              "widget-interact"
            ],
            "_model_name": "VBoxModel",
            "_view_module": "@jupyter-widgets/controls",
            "_model_module_version": "1.5.0",
            "_view_count": null,
            "_view_module_version": "1.5.0",
            "box_style": "",
            "layout": "IPY_MODEL_6f26952e82d249d5b181e593f18aa66e",
            "_model_module": "@jupyter-widgets/controls",
            "children": [
              "IPY_MODEL_b2434282f3a248a988de2d26c0a9c1a5",
              "IPY_MODEL_035a585dc4b344bfbb095d6fe8724373"
            ]
          }
        },
        "6f26952e82d249d5b181e593f18aa66e": {
          "model_module": "@jupyter-widgets/base",
          "model_name": "LayoutModel",
          "state": {
            "_view_name": "LayoutView",
            "grid_template_rows": null,
            "right": null,
            "justify_content": null,
            "_view_module": "@jupyter-widgets/base",
            "overflow": null,
            "_model_module_version": "1.2.0",
            "_view_count": null,
            "flex_flow": null,
            "width": null,
            "min_width": null,
            "border": null,
            "align_items": null,
            "bottom": null,
            "_model_module": "@jupyter-widgets/base",
            "top": null,
            "grid_column": null,
            "overflow_y": null,
            "overflow_x": null,
            "grid_auto_flow": null,
            "grid_area": null,
            "grid_template_columns": null,
            "flex": null,
            "_model_name": "LayoutModel",
            "justify_items": null,
            "grid_row": null,
            "max_height": null,
            "align_content": null,
            "visibility": null,
            "align_self": null,
            "height": null,
            "min_height": null,
            "padding": null,
            "grid_auto_rows": null,
            "grid_gap": null,
            "max_width": null,
            "order": null,
            "_view_module_version": "1.2.0",
            "grid_template_areas": null,
            "object_position": null,
            "object_fit": null,
            "grid_auto_columns": null,
            "margin": null,
            "display": null,
            "left": null
          }
        },
        "b2434282f3a248a988de2d26c0a9c1a5": {
          "model_module": "@jupyter-widgets/controls",
          "model_name": "ToggleButtonsModel",
          "state": {
            "_options_labels": [
              "Hyperparameters",
              "AUC",
              "Confusion Matrix",
              "Threshold",
              "Precision Recall",
              "Prediction Error",
              "Class Report",
              "Feature Selection",
              "Learning Curve",
              "Manifold Learning",
              "Calibration Curve",
              "Validation Curve",
              "Dimensions",
              "Feature Importance",
              "Feature Importance (All)",
              "Decision Boundary",
              "Lift Chart",
              "Gain Chart",
              "Decision Tree"
            ],
            "_view_name": "ToggleButtonsView",
            "style": "IPY_MODEL_41bc008ab91b4c5fa183ecb50d471c34",
            "_dom_classes": [],
            "description": "Plot Type:",
            "_model_name": "ToggleButtonsModel",
            "tooltips": [],
            "index": 2,
            "button_style": "",
            "_view_module": "@jupyter-widgets/controls",
            "_model_module_version": "1.5.0",
            "_view_count": null,
            "disabled": false,
            "_view_module_version": "1.5.0",
            "icons": [
              ""
            ],
            "description_tooltip": null,
            "_model_module": "@jupyter-widgets/controls",
            "layout": "IPY_MODEL_135162e5b6c84ca1b10da3e89a45f886"
          }
        },
        "035a585dc4b344bfbb095d6fe8724373": {
          "model_module": "@jupyter-widgets/output",
          "model_name": "OutputModel",
          "state": {
            "_view_name": "OutputView",
            "msg_id": "",
            "_dom_classes": [],
            "_model_name": "OutputModel",
            "outputs": [
              {
                "output_type": "display_data",
                "metadata": {
                  "tags": []
                },
                "image/png": "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\n",
                "text/plain": "<Figure size 576x396 with 1 Axes>"
              }
            ],
            "_view_module": "@jupyter-widgets/output",
            "_model_module_version": "1.0.0",
            "_view_count": null,
            "_view_module_version": "1.0.0",
            "layout": "IPY_MODEL_f09780868001488daf00cc65a201f099",
            "_model_module": "@jupyter-widgets/output"
          }
        },
        "41bc008ab91b4c5fa183ecb50d471c34": {
          "model_module": "@jupyter-widgets/controls",
          "model_name": "ToggleButtonsStyleModel",
          "state": {
            "_view_name": "StyleView",
            "button_width": "",
            "_model_name": "ToggleButtonsStyleModel",
            "description_width": "",
            "_view_module": "@jupyter-widgets/base",
            "_model_module_version": "1.5.0",
            "_view_count": null,
            "font_weight": "",
            "_view_module_version": "1.2.0",
            "_model_module": "@jupyter-widgets/controls"
          }
        },
        "135162e5b6c84ca1b10da3e89a45f886": {
          "model_module": "@jupyter-widgets/base",
          "model_name": "LayoutModel",
          "state": {
            "_view_name": "LayoutView",
            "grid_template_rows": null,
            "right": null,
            "justify_content": null,
            "_view_module": "@jupyter-widgets/base",
            "overflow": null,
            "_model_module_version": "1.2.0",
            "_view_count": null,
            "flex_flow": null,
            "width": null,
            "min_width": null,
            "border": null,
            "align_items": null,
            "bottom": null,
            "_model_module": "@jupyter-widgets/base",
            "top": null,
            "grid_column": null,
            "overflow_y": null,
            "overflow_x": null,
            "grid_auto_flow": null,
            "grid_area": null,
            "grid_template_columns": null,
            "flex": null,
            "_model_name": "LayoutModel",
            "justify_items": null,
            "grid_row": null,
            "max_height": null,
            "align_content": null,
            "visibility": null,
            "align_self": null,
            "height": null,
            "min_height": null,
            "padding": null,
            "grid_auto_rows": null,
            "grid_gap": null,
            "max_width": null,
            "order": null,
            "_view_module_version": "1.2.0",
            "grid_template_areas": null,
            "object_position": null,
            "object_fit": null,
            "grid_auto_columns": null,
            "margin": null,
            "display": null,
            "left": null
          }
        },
        "f09780868001488daf00cc65a201f099": {
          "model_module": "@jupyter-widgets/base",
          "model_name": "LayoutModel",
          "state": {
            "_view_name": "LayoutView",
            "grid_template_rows": null,
            "right": null,
            "justify_content": null,
            "_view_module": "@jupyter-widgets/base",
            "overflow": null,
            "_model_module_version": "1.2.0",
            "_view_count": null,
            "flex_flow": null,
            "width": null,
            "min_width": null,
            "border": null,
            "align_items": null,
            "bottom": null,
            "_model_module": "@jupyter-widgets/base",
            "top": null,
            "grid_column": null,
            "overflow_y": null,
            "overflow_x": null,
            "grid_auto_flow": null,
            "grid_area": null,
            "grid_template_columns": null,
            "flex": null,
            "_model_name": "LayoutModel",
            "justify_items": null,
            "grid_row": null,
            "max_height": null,
            "align_content": null,
            "visibility": null,
            "align_self": null,
            "height": null,
            "min_height": null,
            "padding": null,
            "grid_auto_rows": null,
            "grid_gap": null,
            "max_width": null,
            "order": null,
            "_view_module_version": "1.2.0",
            "grid_template_areas": null,
            "object_position": null,
            "object_fit": null,
            "grid_auto_columns": null,
            "margin": null,
            "display": null,
            "left": null
          }
        },
        "b4d8701fa32147e59e8d77f4a03b938d": {
          "model_module": "@jupyter-widgets/controls",
          "model_name": "IntProgressModel",
          "state": {
            "_view_name": "ProgressView",
            "style": "IPY_MODEL_e88cf197262444f3a3813daffc4ba534",
            "_dom_classes": [],
            "description": "Processing: ",
            "_model_name": "IntProgressModel",
            "bar_style": "",
            "max": 5,
            "_view_module": "@jupyter-widgets/controls",
            "_model_module_version": "1.5.0",
            "value": 3,
            "_view_count": null,
            "_view_module_version": "1.5.0",
            "orientation": "horizontal",
            "min": 0,
            "description_tooltip": null,
            "_model_module": "@jupyter-widgets/controls",
            "layout": "IPY_MODEL_f5bb4970df7b4399a5aef0532d2d1ce3"
          }
        },
        "e88cf197262444f3a3813daffc4ba534": {
          "model_module": "@jupyter-widgets/controls",
          "model_name": "ProgressStyleModel",
          "state": {
            "_view_name": "StyleView",
            "_model_name": "ProgressStyleModel",
            "description_width": "",
            "_view_module": "@jupyter-widgets/base",
            "_model_module_version": "1.5.0",
            "_view_count": null,
            "_view_module_version": "1.2.0",
            "bar_color": null,
            "_model_module": "@jupyter-widgets/controls"
          }
        },
        "f5bb4970df7b4399a5aef0532d2d1ce3": {
          "model_module": "@jupyter-widgets/base",
          "model_name": "LayoutModel",
          "state": {
            "_view_name": "LayoutView",
            "grid_template_rows": null,
            "right": null,
            "justify_content": null,
            "_view_module": "@jupyter-widgets/base",
            "overflow": null,
            "_model_module_version": "1.2.0",
            "_view_count": null,
            "flex_flow": null,
            "width": null,
            "min_width": null,
            "border": null,
            "align_items": null,
            "bottom": null,
            "_model_module": "@jupyter-widgets/base",
            "top": null,
            "grid_column": null,
            "overflow_y": null,
            "overflow_x": null,
            "grid_auto_flow": null,
            "grid_area": null,
            "grid_template_columns": null,
            "flex": null,
            "_model_name": "LayoutModel",
            "justify_items": null,
            "grid_row": null,
            "max_height": null,
            "align_content": null,
            "visibility": null,
            "align_self": null,
            "height": null,
            "min_height": null,
            "padding": null,
            "grid_auto_rows": null,
            "grid_gap": null,
            "max_width": null,
            "order": null,
            "_view_module_version": "1.2.0",
            "grid_template_areas": null,
            "object_position": null,
            "object_fit": null,
            "grid_auto_columns": null,
            "margin": null,
            "display": null,
            "left": null
          }
        },
        "eff4ed8864c2433e86be7553abc51072": {
          "model_module": "@jupyter-widgets/controls",
          "model_name": "IntProgressModel",
          "state": {
            "_view_name": "ProgressView",
            "style": "IPY_MODEL_159cce8ad15b4413930171bbaf48fac0",
            "_dom_classes": [],
            "description": "Processing: ",
            "_model_name": "IntProgressModel",
            "bar_style": "",
            "max": 5,
            "_view_module": "@jupyter-widgets/controls",
            "_model_module_version": "1.5.0",
            "value": 5,
            "_view_count": null,
            "_view_module_version": "1.5.0",
            "orientation": "horizontal",
            "min": 0,
            "description_tooltip": null,
            "_model_module": "@jupyter-widgets/controls",
            "layout": "IPY_MODEL_a97d1a091c3d4f00ba00a6715874780f"
          }
        },
        "159cce8ad15b4413930171bbaf48fac0": {
          "model_module": "@jupyter-widgets/controls",
          "model_name": "ProgressStyleModel",
          "state": {
            "_view_name": "StyleView",
            "_model_name": "ProgressStyleModel",
            "description_width": "",
            "_view_module": "@jupyter-widgets/base",
            "_model_module_version": "1.5.0",
            "_view_count": null,
            "_view_module_version": "1.2.0",
            "bar_color": null,
            "_model_module": "@jupyter-widgets/controls"
          }
        },
        "a97d1a091c3d4f00ba00a6715874780f": {
          "model_module": "@jupyter-widgets/base",
          "model_name": "LayoutModel",
          "state": {
            "_view_name": "LayoutView",
            "grid_template_rows": null,
            "right": null,
            "justify_content": null,
            "_view_module": "@jupyter-widgets/base",
            "overflow": null,
            "_model_module_version": "1.2.0",
            "_view_count": null,
            "flex_flow": null,
            "width": null,
            "min_width": null,
            "border": null,
            "align_items": null,
            "bottom": null,
            "_model_module": "@jupyter-widgets/base",
            "top": null,
            "grid_column": null,
            "overflow_y": null,
            "overflow_x": null,
            "grid_auto_flow": null,
            "grid_area": null,
            "grid_template_columns": null,
            "flex": null,
            "_model_name": "LayoutModel",
            "justify_items": null,
            "grid_row": null,
            "max_height": null,
            "align_content": null,
            "visibility": null,
            "align_self": null,
            "height": null,
            "min_height": null,
            "padding": null,
            "grid_auto_rows": null,
            "grid_gap": null,
            "max_width": null,
            "order": null,
            "_view_module_version": "1.2.0",
            "grid_template_areas": null,
            "object_position": null,
            "object_fit": null,
            "grid_auto_columns": null,
            "margin": null,
            "display": null,
            "left": null
          }
        },
        "05d832b512bc4ba0a4559cd5bca1fcbd": {
          "model_module": "@jupyter-widgets/controls",
          "model_name": "IntProgressModel",
          "state": {
            "_view_name": "ProgressView",
            "style": "IPY_MODEL_2744748f3d3e4d7f94da2382301aa610",
            "_dom_classes": [],
            "description": "Processing: ",
            "_model_name": "IntProgressModel",
            "bar_style": "",
            "max": 5,
            "_view_module": "@jupyter-widgets/controls",
            "_model_module_version": "1.5.0",
            "value": 5,
            "_view_count": null,
            "_view_module_version": "1.5.0",
            "orientation": "horizontal",
            "min": 0,
            "description_tooltip": null,
            "_model_module": "@jupyter-widgets/controls",
            "layout": "IPY_MODEL_fbe5230c32714b918e2da72deb999bd4"
          }
        },
        "2744748f3d3e4d7f94da2382301aa610": {
          "model_module": "@jupyter-widgets/controls",
          "model_name": "ProgressStyleModel",
          "state": {
            "_view_name": "StyleView",
            "_model_name": "ProgressStyleModel",
            "description_width": "",
            "_view_module": "@jupyter-widgets/base",
            "_model_module_version": "1.5.0",
            "_view_count": null,
            "_view_module_version": "1.2.0",
            "bar_color": null,
            "_model_module": "@jupyter-widgets/controls"
          }
        },
        "fbe5230c32714b918e2da72deb999bd4": {
          "model_module": "@jupyter-widgets/base",
          "model_name": "LayoutModel",
          "state": {
            "_view_name": "LayoutView",
            "grid_template_rows": null,
            "right": null,
            "justify_content": null,
            "_view_module": "@jupyter-widgets/base",
            "overflow": null,
            "_model_module_version": "1.2.0",
            "_view_count": null,
            "flex_flow": null,
            "width": null,
            "min_width": null,
            "border": null,
            "align_items": null,
            "bottom": null,
            "_model_module": "@jupyter-widgets/base",
            "top": null,
            "grid_column": null,
            "overflow_y": null,
            "overflow_x": null,
            "grid_auto_flow": null,
            "grid_area": null,
            "grid_template_columns": null,
            "flex": null,
            "_model_name": "LayoutModel",
            "justify_items": null,
            "grid_row": null,
            "max_height": null,
            "align_content": null,
            "visibility": null,
            "align_self": null,
            "height": null,
            "min_height": null,
            "padding": null,
            "grid_auto_rows": null,
            "grid_gap": null,
            "max_width": null,
            "order": null,
            "_view_module_version": "1.2.0",
            "grid_template_areas": null,
            "object_position": null,
            "object_fit": null,
            "grid_auto_columns": null,
            "margin": null,
            "display": null,
            "left": null
          }
        },
        "bf760361392f4655b340991e4ca6375b": {
          "model_module": "@jupyter-widgets/controls",
          "model_name": "IntProgressModel",
          "state": {
            "_view_name": "ProgressView",
            "style": "IPY_MODEL_99e5f1512e324da4a2eb97f1375df734",
            "_dom_classes": [],
            "description": "Processing: ",
            "_model_name": "IntProgressModel",
            "bar_style": "",
            "max": 5,
            "_view_module": "@jupyter-widgets/controls",
            "_model_module_version": "1.5.0",
            "value": 5,
            "_view_count": null,
            "_view_module_version": "1.5.0",
            "orientation": "horizontal",
            "min": 0,
            "description_tooltip": null,
            "_model_module": "@jupyter-widgets/controls",
            "layout": "IPY_MODEL_e19246212add4b0ba9645e844e1d73b1"
          }
        },
        "99e5f1512e324da4a2eb97f1375df734": {
          "model_module": "@jupyter-widgets/controls",
          "model_name": "ProgressStyleModel",
          "state": {
            "_view_name": "StyleView",
            "_model_name": "ProgressStyleModel",
            "description_width": "",
            "_view_module": "@jupyter-widgets/base",
            "_model_module_version": "1.5.0",
            "_view_count": null,
            "_view_module_version": "1.2.0",
            "bar_color": null,
            "_model_module": "@jupyter-widgets/controls"
          }
        },
        "e19246212add4b0ba9645e844e1d73b1": {
          "model_module": "@jupyter-widgets/base",
          "model_name": "LayoutModel",
          "state": {
            "_view_name": "LayoutView",
            "grid_template_rows": null,
            "right": null,
            "justify_content": null,
            "_view_module": "@jupyter-widgets/base",
            "overflow": null,
            "_model_module_version": "1.2.0",
            "_view_count": null,
            "flex_flow": null,
            "width": null,
            "min_width": null,
            "border": null,
            "align_items": null,
            "bottom": null,
            "_model_module": "@jupyter-widgets/base",
            "top": null,
            "grid_column": null,
            "overflow_y": null,
            "overflow_x": null,
            "grid_auto_flow": null,
            "grid_area": null,
            "grid_template_columns": null,
            "flex": null,
            "_model_name": "LayoutModel",
            "justify_items": null,
            "grid_row": null,
            "max_height": null,
            "align_content": null,
            "visibility": null,
            "align_self": null,
            "height": null,
            "min_height": null,
            "padding": null,
            "grid_auto_rows": null,
            "grid_gap": null,
            "max_width": null,
            "order": null,
            "_view_module_version": "1.2.0",
            "grid_template_areas": null,
            "object_position": null,
            "object_fit": null,
            "grid_auto_columns": null,
            "margin": null,
            "display": null,
            "left": null
          }
        },
        "a37b6573a19d47e7ad45d62044e84117": {
          "model_module": "@jupyter-widgets/controls",
          "model_name": "IntProgressModel",
          "state": {
            "_view_name": "ProgressView",
            "style": "IPY_MODEL_1645e9822131460f98b58c749d10a293",
            "_dom_classes": [],
            "description": "Processing: ",
            "_model_name": "IntProgressModel",
            "bar_style": "",
            "max": 5,
            "_view_module": "@jupyter-widgets/controls",
            "_model_module_version": "1.5.0",
            "value": 5,
            "_view_count": null,
            "_view_module_version": "1.5.0",
            "orientation": "horizontal",
            "min": 0,
            "description_tooltip": null,
            "_model_module": "@jupyter-widgets/controls",
            "layout": "IPY_MODEL_1344621875e440f6a14be50d33089eec"
          }
        },
        "1645e9822131460f98b58c749d10a293": {
          "model_module": "@jupyter-widgets/controls",
          "model_name": "ProgressStyleModel",
          "state": {
            "_view_name": "StyleView",
            "_model_name": "ProgressStyleModel",
            "description_width": "",
            "_view_module": "@jupyter-widgets/base",
            "_model_module_version": "1.5.0",
            "_view_count": null,
            "_view_module_version": "1.2.0",
            "bar_color": null,
            "_model_module": "@jupyter-widgets/controls"
          }
        },
        "1344621875e440f6a14be50d33089eec": {
          "model_module": "@jupyter-widgets/base",
          "model_name": "LayoutModel",
          "state": {
            "_view_name": "LayoutView",
            "grid_template_rows": null,
            "right": null,
            "justify_content": null,
            "_view_module": "@jupyter-widgets/base",
            "overflow": null,
            "_model_module_version": "1.2.0",
            "_view_count": null,
            "flex_flow": null,
            "width": null,
            "min_width": null,
            "border": null,
            "align_items": null,
            "bottom": null,
            "_model_module": "@jupyter-widgets/base",
            "top": null,
            "grid_column": null,
            "overflow_y": null,
            "overflow_x": null,
            "grid_auto_flow": null,
            "grid_area": null,
            "grid_template_columns": null,
            "flex": null,
            "_model_name": "LayoutModel",
            "justify_items": null,
            "grid_row": null,
            "max_height": null,
            "align_content": null,
            "visibility": null,
            "align_self": null,
            "height": null,
            "min_height": null,
            "padding": null,
            "grid_auto_rows": null,
            "grid_gap": null,
            "max_width": null,
            "order": null,
            "_view_module_version": "1.2.0",
            "grid_template_areas": null,
            "object_position": null,
            "object_fit": null,
            "grid_auto_columns": null,
            "margin": null,
            "display": null,
            "left": null
          }
        }
      }
    }
  },
  "cells": [
    {
      "cell_type": "markdown",
      "metadata": {
        "id": "view-in-github",
        "colab_type": "text"
      },
      "source": [
        "<a href=\"https://colab.research.google.com/github/pacifikus/oil-hack/blob/main/Submission.ipynb\" target=\"_parent\"><img src=\"https://colab.research.google.com/assets/colab-badge.svg\" alt=\"Open In Colab\"/></a>"
      ]
    },
    {
      "cell_type": "code",
      "metadata": {
        "colab": {
          "base_uri": "https://localhost:8080/"
        },
        "id": "fKNFR7boJrU9",
        "outputId": "f3ec7301-e3ce-442d-fa71-e6ae539929a9"
      },
      "source": [
        "from google.colab import drive\n",
        "drive.mount('/content/gdrive')"
      ],
      "execution_count": null,
      "outputs": [
        {
          "output_type": "stream",
          "text": [
            "Drive already mounted at /content/gdrive; to attempt to forcibly remount, call drive.mount(\"/content/gdrive\", force_remount=True).\n"
          ],
          "name": "stdout"
        }
      ]
    },
    {
      "cell_type": "code",
      "metadata": {
        "colab": {
          "base_uri": "https://localhost:8080/"
        },
        "id": "mut87SFOJxH4",
        "outputId": "ba10448c-59f6-48e0-82c1-bbd325d79015"
      },
      "source": [
        "%cd gdrive/MyDrive/oil-hack"
      ],
      "execution_count": null,
      "outputs": [
        {
          "output_type": "stream",
          "text": [
            "/content/gdrive/MyDrive/oil-hack\n"
          ],
          "name": "stdout"
        }
      ]
    },
    {
      "cell_type": "code",
      "metadata": {
        "id": "4TAkkp0cLXOp"
      },
      "source": [
        "TRAIN = 'Train-dataset.csv'\n",
        "VAL = 'Validation-dataset.csv'\n",
        "SEED = 42"
      ],
      "execution_count": null,
      "outputs": []
    },
    {
      "cell_type": "code",
      "metadata": {
        "colab": {
          "base_uri": "https://localhost:8080/",
          "height": 1000
        },
        "id": "-fxePNmxQ1Jb",
        "outputId": "cac5c68b-1e8b-4a67-c1f7-55e4cdabe2ec"
      },
      "source": [
        "!pip install pycaret==2.3"
      ],
      "execution_count": null,
      "outputs": [
        {
          "output_type": "stream",
          "text": [
            "Requirement already satisfied: pycaret==2.3 in /usr/local/lib/python3.7/dist-packages (2.3.0)\n",
            "Requirement already satisfied: joblib in /usr/local/lib/python3.7/dist-packages (from pycaret==2.3) (1.0.1)\n",
            "Requirement already satisfied: textblob in /usr/local/lib/python3.7/dist-packages (from pycaret==2.3) (0.15.3)\n",
            "Requirement already satisfied: pyLDAvis in /usr/local/lib/python3.7/dist-packages (from pycaret==2.3) (3.3.1)\n",
            "Requirement already satisfied: kmodes>=0.10.1 in /usr/local/lib/python3.7/dist-packages (from pycaret==2.3) (0.11.0)\n",
            "Requirement already satisfied: matplotlib in /usr/local/lib/python3.7/dist-packages (from pycaret==2.3) (3.2.2)\n",
            "Requirement already satisfied: mlxtend in /usr/local/lib/python3.7/dist-packages (from pycaret==2.3) (0.18.0)\n",
            "Requirement already satisfied: Boruta in /usr/local/lib/python3.7/dist-packages (from pycaret==2.3) (0.3)\n",
            "Collecting scipy<=1.5.4\n",
            "  Using cached https://files.pythonhosted.org/packages/dc/7e/8f6a79b102ca1ea928bae8998b05bf5dc24a90571db13cd119f275ba6252/scipy-1.5.4-cp37-cp37m-manylinux1_x86_64.whl\n",
            "Requirement already satisfied: pandas-profiling>=2.8.0 in /usr/local/lib/python3.7/dist-packages (from pycaret==2.3) (3.0.0)\n",
            "Requirement already satisfied: gensim in /usr/local/lib/python3.7/dist-packages (from pycaret==2.3) (3.6.0)\n",
            "Requirement already satisfied: cufflinks>=0.17.0 in /usr/local/lib/python3.7/dist-packages (from pycaret==2.3) (0.17.3)\n",
            "Requirement already satisfied: seaborn in /usr/local/lib/python3.7/dist-packages (from pycaret==2.3) (0.11.1)\n",
            "Requirement already satisfied: scikit-plot in /usr/local/lib/python3.7/dist-packages (from pycaret==2.3) (0.3.7)\n",
            "Requirement already satisfied: nltk in /usr/local/lib/python3.7/dist-packages (from pycaret==2.3) (3.2.5)\n",
            "Requirement already satisfied: pandas in /usr/local/lib/python3.7/dist-packages (from pycaret==2.3) (1.1.5)\n",
            "Requirement already satisfied: ipywidgets in /usr/local/lib/python3.7/dist-packages (from pycaret==2.3) (7.6.3)\n",
            "Requirement already satisfied: pyod in /usr/local/lib/python3.7/dist-packages (from pycaret==2.3) (0.8.8)\n",
            "Requirement already satisfied: IPython in /usr/local/lib/python3.7/dist-packages (from pycaret==2.3) (5.5.0)\n",
            "Requirement already satisfied: wordcloud in /usr/local/lib/python3.7/dist-packages (from pycaret==2.3) (1.5.0)\n",
            "Requirement already satisfied: lightgbm>=2.3.1 in /usr/local/lib/python3.7/dist-packages (from pycaret==2.3) (3.2.1)\n",
            "Requirement already satisfied: spacy<2.4.0 in /usr/local/lib/python3.7/dist-packages (from pycaret==2.3) (2.2.4)\n",
            "Requirement already satisfied: yellowbrick>=1.0.1 in /usr/local/lib/python3.7/dist-packages (from pycaret==2.3) (1.3.post1)\n",
            "Requirement already satisfied: mlflow in /usr/local/lib/python3.7/dist-packages (from pycaret==2.3) (1.17.0)\n",
            "Requirement already satisfied: plotly>=4.4.1 in /usr/local/lib/python3.7/dist-packages (from pycaret==2.3) (4.4.1)\n",
            "Collecting numpy==1.19.5\n",
            "  Using cached https://files.pythonhosted.org/packages/08/d6/a6aaa29fea945bc6c61d11f6e0697b325ff7446de5ffd62c2fa02f627048/numpy-1.19.5-cp37-cp37m-manylinux2010_x86_64.whl\n",
            "Requirement already satisfied: umap-learn in /usr/local/lib/python3.7/dist-packages (from pycaret==2.3) (0.5.1)\n",
            "Requirement already satisfied: imbalanced-learn>=0.7.0 in /usr/local/lib/python3.7/dist-packages (from pycaret==2.3) (0.7.0)\n",
            "Requirement already satisfied: scikit-learn==0.23.2 in /usr/local/lib/python3.7/dist-packages (from pycaret==2.3) (0.23.2)\n",
            "Requirement already satisfied: future in /usr/local/lib/python3.7/dist-packages (from pyLDAvis->pycaret==2.3) (0.16.0)\n",
            "Requirement already satisfied: funcy in /usr/local/lib/python3.7/dist-packages (from pyLDAvis->pycaret==2.3) (1.16)\n",
            "Requirement already satisfied: numexpr in /usr/local/lib/python3.7/dist-packages (from pyLDAvis->pycaret==2.3) (2.7.3)\n",
            "Requirement already satisfied: jinja2 in /usr/local/lib/python3.7/dist-packages (from pyLDAvis->pycaret==2.3) (2.11.3)\n",
            "Requirement already satisfied: sklearn in /usr/local/lib/python3.7/dist-packages (from pyLDAvis->pycaret==2.3) (0.0)\n",
            "Requirement already satisfied: setuptools in /usr/local/lib/python3.7/dist-packages (from pyLDAvis->pycaret==2.3) (56.1.0)\n",
            "Requirement already satisfied: kiwisolver>=1.0.1 in /usr/local/lib/python3.7/dist-packages (from matplotlib->pycaret==2.3) (1.3.1)\n",
            "Requirement already satisfied: cycler>=0.10 in /usr/local/lib/python3.7/dist-packages (from matplotlib->pycaret==2.3) (0.10.0)\n",
            "Requirement already satisfied: pyparsing!=2.0.4,!=2.1.2,!=2.1.6,>=2.0.1 in /usr/local/lib/python3.7/dist-packages (from matplotlib->pycaret==2.3) (2.4.7)\n",
            "Requirement already satisfied: python-dateutil>=2.1 in /usr/local/lib/python3.7/dist-packages (from matplotlib->pycaret==2.3) (2.8.1)\n",
            "Requirement already satisfied: htmlmin>=0.1.12 in /usr/local/lib/python3.7/dist-packages (from pandas-profiling>=2.8.0->pycaret==2.3) (0.1.12)\n",
            "Requirement already satisfied: visions[type_image_path]==0.7.1 in /usr/local/lib/python3.7/dist-packages (from pandas-profiling>=2.8.0->pycaret==2.3) (0.7.1)\n",
            "Requirement already satisfied: phik>=0.11.1 in /usr/local/lib/python3.7/dist-packages (from pandas-profiling>=2.8.0->pycaret==2.3) (0.11.2)\n",
            "Requirement already satisfied: tqdm>=4.48.2 in /usr/local/lib/python3.7/dist-packages (from pandas-profiling>=2.8.0->pycaret==2.3) (4.60.0)\n",
            "Requirement already satisfied: missingno>=0.4.2 in /usr/local/lib/python3.7/dist-packages (from pandas-profiling>=2.8.0->pycaret==2.3) (0.4.2)\n",
            "Requirement already satisfied: requests>=2.24.0 in /usr/local/lib/python3.7/dist-packages (from pandas-profiling>=2.8.0->pycaret==2.3) (2.25.1)\n",
            "Requirement already satisfied: PyYAML>=5.0.0 in /usr/local/lib/python3.7/dist-packages (from pandas-profiling>=2.8.0->pycaret==2.3) (5.4.1)\n",
            "Requirement already satisfied: pydantic>=1.8.1 in /usr/local/lib/python3.7/dist-packages (from pandas-profiling>=2.8.0->pycaret==2.3) (1.8.2)\n",
            "Requirement already satisfied: tangled-up-in-unicode==0.1.0 in /usr/local/lib/python3.7/dist-packages (from pandas-profiling>=2.8.0->pycaret==2.3) (0.1.0)\n",
            "Requirement already satisfied: smart-open>=1.2.1 in /usr/local/lib/python3.7/dist-packages (from gensim->pycaret==2.3) (5.0.0)\n",
            "Requirement already satisfied: six>=1.5.0 in /usr/local/lib/python3.7/dist-packages (from gensim->pycaret==2.3) (1.15.0)\n",
            "Requirement already satisfied: colorlover>=0.2.1 in /usr/local/lib/python3.7/dist-packages (from cufflinks>=0.17.0->pycaret==2.3) (0.3.0)\n",
            "Requirement already satisfied: pytz>=2017.2 in /usr/local/lib/python3.7/dist-packages (from pandas->pycaret==2.3) (2018.9)\n",
            "Requirement already satisfied: traitlets>=4.3.1 in /usr/local/lib/python3.7/dist-packages (from ipywidgets->pycaret==2.3) (5.0.5)\n",
            "Requirement already satisfied: widgetsnbextension~=3.5.0 in /usr/local/lib/python3.7/dist-packages (from ipywidgets->pycaret==2.3) (3.5.1)\n",
            "Requirement already satisfied: nbformat>=4.2.0 in /usr/local/lib/python3.7/dist-packages (from ipywidgets->pycaret==2.3) (5.1.3)\n",
            "Requirement already satisfied: jupyterlab-widgets>=1.0.0; python_version >= \"3.6\" in /usr/local/lib/python3.7/dist-packages (from ipywidgets->pycaret==2.3) (1.0.0)\n",
            "Requirement already satisfied: ipykernel>=4.5.1 in /usr/local/lib/python3.7/dist-packages (from ipywidgets->pycaret==2.3) (4.10.1)\n",
            "Requirement already satisfied: numba>=0.35 in /usr/local/lib/python3.7/dist-packages (from pyod->pycaret==2.3) (0.51.2)\n",
            "Requirement already satisfied: statsmodels in /usr/local/lib/python3.7/dist-packages (from pyod->pycaret==2.3) (0.10.2)\n",
            "Requirement already satisfied: prompt-toolkit<2.0.0,>=1.0.4 in /usr/local/lib/python3.7/dist-packages (from IPython->pycaret==2.3) (1.0.18)\n",
            "Requirement already satisfied: pygments in /usr/local/lib/python3.7/dist-packages (from IPython->pycaret==2.3) (2.6.1)\n",
            "Requirement already satisfied: pickleshare in /usr/local/lib/python3.7/dist-packages (from IPython->pycaret==2.3) (0.7.5)\n",
            "Requirement already satisfied: simplegeneric>0.8 in /usr/local/lib/python3.7/dist-packages (from IPython->pycaret==2.3) (0.8.1)\n",
            "Requirement already satisfied: pexpect; sys_platform != \"win32\" in /usr/local/lib/python3.7/dist-packages (from IPython->pycaret==2.3) (4.8.0)\n",
            "Requirement already satisfied: decorator in /usr/local/lib/python3.7/dist-packages (from IPython->pycaret==2.3) (4.4.2)\n",
            "Requirement already satisfied: pillow in /usr/local/lib/python3.7/dist-packages (from wordcloud->pycaret==2.3) (7.1.2)\n",
            "Requirement already satisfied: wheel in /usr/local/lib/python3.7/dist-packages (from lightgbm>=2.3.1->pycaret==2.3) (0.36.2)\n",
            "Requirement already satisfied: srsly<1.1.0,>=1.0.2 in /usr/local/lib/python3.7/dist-packages (from spacy<2.4.0->pycaret==2.3) (1.0.5)\n",
            "Requirement already satisfied: blis<0.5.0,>=0.4.0 in /usr/local/lib/python3.7/dist-packages (from spacy<2.4.0->pycaret==2.3) (0.4.1)\n",
            "Requirement already satisfied: plac<1.2.0,>=0.9.6 in /usr/local/lib/python3.7/dist-packages (from spacy<2.4.0->pycaret==2.3) (1.1.3)\n",
            "Requirement already satisfied: wasabi<1.1.0,>=0.4.0 in /usr/local/lib/python3.7/dist-packages (from spacy<2.4.0->pycaret==2.3) (0.8.2)\n",
            "Requirement already satisfied: preshed<3.1.0,>=3.0.2 in /usr/local/lib/python3.7/dist-packages (from spacy<2.4.0->pycaret==2.3) (3.0.5)\n",
            "Requirement already satisfied: cymem<2.1.0,>=2.0.2 in /usr/local/lib/python3.7/dist-packages (from spacy<2.4.0->pycaret==2.3) (2.0.5)\n",
            "Requirement already satisfied: murmurhash<1.1.0,>=0.28.0 in /usr/local/lib/python3.7/dist-packages (from spacy<2.4.0->pycaret==2.3) (1.0.5)\n",
            "Requirement already satisfied: catalogue<1.1.0,>=0.0.7 in /usr/local/lib/python3.7/dist-packages (from spacy<2.4.0->pycaret==2.3) (1.0.0)\n",
            "Requirement already satisfied: thinc==7.4.0 in /usr/local/lib/python3.7/dist-packages (from spacy<2.4.0->pycaret==2.3) (7.4.0)\n",
            "Requirement already satisfied: cloudpickle in /usr/local/lib/python3.7/dist-packages (from mlflow->pycaret==2.3) (1.3.0)\n",
            "Requirement already satisfied: docker>=4.0.0 in /usr/local/lib/python3.7/dist-packages (from mlflow->pycaret==2.3) (5.0.0)\n",
            "Requirement already satisfied: prometheus-flask-exporter in /usr/local/lib/python3.7/dist-packages (from mlflow->pycaret==2.3) (0.18.2)\n",
            "Requirement already satisfied: querystring-parser in /usr/local/lib/python3.7/dist-packages (from mlflow->pycaret==2.3) (1.2.4)\n",
            "Requirement already satisfied: click>=7.0 in /usr/local/lib/python3.7/dist-packages (from mlflow->pycaret==2.3) (7.1.2)\n",
            "Requirement already satisfied: alembic<=1.4.1 in /usr/local/lib/python3.7/dist-packages (from mlflow->pycaret==2.3) (1.4.1)\n",
            "Requirement already satisfied: entrypoints in /usr/local/lib/python3.7/dist-packages (from mlflow->pycaret==2.3) (0.3)\n",
            "Requirement already satisfied: protobuf>=3.6.0 in /usr/local/lib/python3.7/dist-packages (from mlflow->pycaret==2.3) (3.12.4)\n",
            "Requirement already satisfied: sqlparse>=0.3.1 in /usr/local/lib/python3.7/dist-packages (from mlflow->pycaret==2.3) (0.4.1)\n",
            "Requirement already satisfied: databricks-cli>=0.8.7 in /usr/local/lib/python3.7/dist-packages (from mlflow->pycaret==2.3) (0.14.3)\n",
            "Requirement already satisfied: Flask in /usr/local/lib/python3.7/dist-packages (from mlflow->pycaret==2.3) (1.1.2)\n",
            "Requirement already satisfied: gitpython>=2.1.0 in /usr/local/lib/python3.7/dist-packages (from mlflow->pycaret==2.3) (3.1.17)\n",
            "Requirement already satisfied: sqlalchemy in /usr/local/lib/python3.7/dist-packages (from mlflow->pycaret==2.3) (1.4.14)\n",
            "Requirement already satisfied: gunicorn; platform_system != \"Windows\" in /usr/local/lib/python3.7/dist-packages (from mlflow->pycaret==2.3) (20.1.0)\n",
            "Requirement already satisfied: retrying>=1.3.3 in /usr/local/lib/python3.7/dist-packages (from plotly>=4.4.1->pycaret==2.3) (1.3.3)\n",
            "Requirement already satisfied: pynndescent>=0.5 in /usr/local/lib/python3.7/dist-packages (from umap-learn->pycaret==2.3) (0.5.2)\n",
            "Requirement already satisfied: threadpoolctl>=2.0.0 in /usr/local/lib/python3.7/dist-packages (from scikit-learn==0.23.2->pycaret==2.3) (2.1.0)\n",
            "Requirement already satisfied: MarkupSafe>=0.23 in /usr/local/lib/python3.7/dist-packages (from jinja2->pyLDAvis->pycaret==2.3) (1.1.1)\n",
            "Requirement already satisfied: multimethod==1.4 in /usr/local/lib/python3.7/dist-packages (from visions[type_image_path]==0.7.1->pandas-profiling>=2.8.0->pycaret==2.3) (1.4)\n",
            "Requirement already satisfied: attrs>=19.3.0 in /usr/local/lib/python3.7/dist-packages (from visions[type_image_path]==0.7.1->pandas-profiling>=2.8.0->pycaret==2.3) (21.2.0)\n",
            "Requirement already satisfied: bottleneck in /usr/local/lib/python3.7/dist-packages (from visions[type_image_path]==0.7.1->pandas-profiling>=2.8.0->pycaret==2.3) (1.3.2)\n",
            "Requirement already satisfied: networkx>=2.4 in /usr/local/lib/python3.7/dist-packages (from visions[type_image_path]==0.7.1->pandas-profiling>=2.8.0->pycaret==2.3) (2.5.1)\n",
            "Requirement already satisfied: imagehash; extra == \"type_image_path\" in /usr/local/lib/python3.7/dist-packages (from visions[type_image_path]==0.7.1->pandas-profiling>=2.8.0->pycaret==2.3) (4.2.0)\n",
            "Requirement already satisfied: urllib3<1.27,>=1.21.1 in /usr/local/lib/python3.7/dist-packages (from requests>=2.24.0->pandas-profiling>=2.8.0->pycaret==2.3) (1.24.3)\n",
            "Requirement already satisfied: chardet<5,>=3.0.2 in /usr/local/lib/python3.7/dist-packages (from requests>=2.24.0->pandas-profiling>=2.8.0->pycaret==2.3) (3.0.4)\n",
            "Requirement already satisfied: certifi>=2017.4.17 in /usr/local/lib/python3.7/dist-packages (from requests>=2.24.0->pandas-profiling>=2.8.0->pycaret==2.3) (2020.12.5)\n",
            "Requirement already satisfied: idna<3,>=2.5 in /usr/local/lib/python3.7/dist-packages (from requests>=2.24.0->pandas-profiling>=2.8.0->pycaret==2.3) (2.10)\n",
            "Requirement already satisfied: typing-extensions>=3.7.4.3 in /usr/local/lib/python3.7/dist-packages (from pydantic>=1.8.1->pandas-profiling>=2.8.0->pycaret==2.3) (3.7.4.3)\n",
            "Requirement already satisfied: ipython-genutils in /usr/local/lib/python3.7/dist-packages (from traitlets>=4.3.1->ipywidgets->pycaret==2.3) (0.2.0)\n",
            "Requirement already satisfied: notebook>=4.4.1 in /usr/local/lib/python3.7/dist-packages (from widgetsnbextension~=3.5.0->ipywidgets->pycaret==2.3) (5.3.1)\n",
            "Requirement already satisfied: jsonschema!=2.5.0,>=2.4 in /usr/local/lib/python3.7/dist-packages (from nbformat>=4.2.0->ipywidgets->pycaret==2.3) (2.6.0)\n",
            "Requirement already satisfied: jupyter-core in /usr/local/lib/python3.7/dist-packages (from nbformat>=4.2.0->ipywidgets->pycaret==2.3) (4.7.1)\n",
            "Requirement already satisfied: jupyter-client in /usr/local/lib/python3.7/dist-packages (from ipykernel>=4.5.1->ipywidgets->pycaret==2.3) (5.3.5)\n",
            "Requirement already satisfied: tornado>=4.0 in /usr/local/lib/python3.7/dist-packages (from ipykernel>=4.5.1->ipywidgets->pycaret==2.3) (5.1.1)\n",
            "Requirement already satisfied: llvmlite<0.35,>=0.34.0.dev0 in /usr/local/lib/python3.7/dist-packages (from numba>=0.35->pyod->pycaret==2.3) (0.34.0)\n",
            "Requirement already satisfied: patsy>=0.4.0 in /usr/local/lib/python3.7/dist-packages (from statsmodels->pyod->pycaret==2.3) (0.5.1)\n",
            "Requirement already satisfied: wcwidth in /usr/local/lib/python3.7/dist-packages (from prompt-toolkit<2.0.0,>=1.0.4->IPython->pycaret==2.3) (0.2.5)\n",
            "Requirement already satisfied: ptyprocess>=0.5 in /usr/local/lib/python3.7/dist-packages (from pexpect; sys_platform != \"win32\"->IPython->pycaret==2.3) (0.7.0)\n",
            "Requirement already satisfied: importlib-metadata>=0.20; python_version < \"3.8\" in /usr/local/lib/python3.7/dist-packages (from catalogue<1.1.0,>=0.0.7->spacy<2.4.0->pycaret==2.3) (4.0.1)\n",
            "Requirement already satisfied: websocket-client>=0.32.0 in /usr/local/lib/python3.7/dist-packages (from docker>=4.0.0->mlflow->pycaret==2.3) (0.59.0)\n",
            "Requirement already satisfied: prometheus-client in /usr/local/lib/python3.7/dist-packages (from prometheus-flask-exporter->mlflow->pycaret==2.3) (0.10.1)\n",
            "Requirement already satisfied: python-editor>=0.3 in /usr/local/lib/python3.7/dist-packages (from alembic<=1.4.1->mlflow->pycaret==2.3) (1.0.4)\n",
            "Requirement already satisfied: Mako in /usr/local/lib/python3.7/dist-packages (from alembic<=1.4.1->mlflow->pycaret==2.3) (1.1.4)\n",
            "Requirement already satisfied: tabulate>=0.7.7 in /usr/local/lib/python3.7/dist-packages (from databricks-cli>=0.8.7->mlflow->pycaret==2.3) (0.8.9)\n",
            "Requirement already satisfied: Werkzeug>=0.15 in /usr/local/lib/python3.7/dist-packages (from Flask->mlflow->pycaret==2.3) (1.0.1)\n",
            "Requirement already satisfied: itsdangerous>=0.24 in /usr/local/lib/python3.7/dist-packages (from Flask->mlflow->pycaret==2.3) (1.1.0)\n",
            "Requirement already satisfied: gitdb<5,>=4.0.1 in /usr/local/lib/python3.7/dist-packages (from gitpython>=2.1.0->mlflow->pycaret==2.3) (4.0.7)\n",
            "Requirement already satisfied: greenlet!=0.4.17; python_version >= \"3\" in /usr/local/lib/python3.7/dist-packages (from sqlalchemy->mlflow->pycaret==2.3) (1.1.0)\n",
            "Requirement already satisfied: PyWavelets in /usr/local/lib/python3.7/dist-packages (from imagehash; extra == \"type_image_path\"->visions[type_image_path]==0.7.1->pandas-profiling>=2.8.0->pycaret==2.3) (1.1.1)\n",
            "Requirement already satisfied: terminado>=0.8.1 in /usr/local/lib/python3.7/dist-packages (from notebook>=4.4.1->widgetsnbextension~=3.5.0->ipywidgets->pycaret==2.3) (0.9.4)\n",
            "Requirement already satisfied: nbconvert in /usr/local/lib/python3.7/dist-packages (from notebook>=4.4.1->widgetsnbextension~=3.5.0->ipywidgets->pycaret==2.3) (5.6.1)\n",
            "Requirement already satisfied: Send2Trash in /usr/local/lib/python3.7/dist-packages (from notebook>=4.4.1->widgetsnbextension~=3.5.0->ipywidgets->pycaret==2.3) (1.5.0)\n",
            "Requirement already satisfied: pyzmq>=13 in /usr/local/lib/python3.7/dist-packages (from jupyter-client->ipykernel>=4.5.1->ipywidgets->pycaret==2.3) (22.0.3)\n",
            "Requirement already satisfied: zipp>=0.5 in /usr/local/lib/python3.7/dist-packages (from importlib-metadata>=0.20; python_version < \"3.8\"->catalogue<1.1.0,>=0.0.7->spacy<2.4.0->pycaret==2.3) (3.4.1)\n",
            "Requirement already satisfied: smmap<5,>=3.0.1 in /usr/local/lib/python3.7/dist-packages (from gitdb<5,>=4.0.1->gitpython>=2.1.0->mlflow->pycaret==2.3) (4.0.0)\n",
            "Requirement already satisfied: pandocfilters>=1.4.1 in /usr/local/lib/python3.7/dist-packages (from nbconvert->notebook>=4.4.1->widgetsnbextension~=3.5.0->ipywidgets->pycaret==2.3) (1.4.3)\n",
            "Requirement already satisfied: mistune<2,>=0.8.1 in /usr/local/lib/python3.7/dist-packages (from nbconvert->notebook>=4.4.1->widgetsnbextension~=3.5.0->ipywidgets->pycaret==2.3) (0.8.4)\n",
            "Requirement already satisfied: bleach in /usr/local/lib/python3.7/dist-packages (from nbconvert->notebook>=4.4.1->widgetsnbextension~=3.5.0->ipywidgets->pycaret==2.3) (3.3.0)\n",
            "Requirement already satisfied: testpath in /usr/local/lib/python3.7/dist-packages (from nbconvert->notebook>=4.4.1->widgetsnbextension~=3.5.0->ipywidgets->pycaret==2.3) (0.4.4)\n",
            "Requirement already satisfied: defusedxml in /usr/local/lib/python3.7/dist-packages (from nbconvert->notebook>=4.4.1->widgetsnbextension~=3.5.0->ipywidgets->pycaret==2.3) (0.7.1)\n",
            "Requirement already satisfied: packaging in /usr/local/lib/python3.7/dist-packages (from bleach->nbconvert->notebook>=4.4.1->widgetsnbextension~=3.5.0->ipywidgets->pycaret==2.3) (20.9)\n",
            "Requirement already satisfied: webencodings in /usr/local/lib/python3.7/dist-packages (from bleach->nbconvert->notebook>=4.4.1->widgetsnbextension~=3.5.0->ipywidgets->pycaret==2.3) (0.5.1)\n",
            "\u001b[31mERROR: pyldavis 3.3.1 has requirement numpy>=1.20.0, but you'll have numpy 1.19.5 which is incompatible.\u001b[0m\n",
            "\u001b[31mERROR: pyldavis 3.3.1 has requirement pandas>=1.2.0, but you'll have pandas 1.1.5 which is incompatible.\u001b[0m\n",
            "\u001b[31mERROR: google-colab 1.0.0 has requirement requests~=2.23.0, but you'll have requests 2.25.1 which is incompatible.\u001b[0m\n",
            "\u001b[31mERROR: datascience 0.10.6 has requirement folium==0.2.1, but you'll have folium 0.8.3 which is incompatible.\u001b[0m\n",
            "\u001b[31mERROR: albumentations 0.1.12 has requirement imgaug<0.2.7,>=0.2.5, but you'll have imgaug 0.2.9 which is incompatible.\u001b[0m\n",
            "Installing collected packages: numpy, scipy\n",
            "  Found existing installation: numpy 1.20.3\n",
            "    Uninstalling numpy-1.20.3:\n",
            "      Successfully uninstalled numpy-1.20.3\n",
            "  Found existing installation: scipy 1.6.3\n",
            "    Uninstalling scipy-1.6.3:\n",
            "      Successfully uninstalled scipy-1.6.3\n",
            "Successfully installed numpy-1.19.5 scipy-1.5.4\n"
          ],
          "name": "stdout"
        },
        {
          "output_type": "display_data",
          "data": {
            "application/vnd.colab-display-data+json": {
              "pip_warning": {
                "packages": [
                  "numpy"
                ]
              }
            }
          },
          "metadata": {
            "tags": []
          }
        }
      ]
    },
    {
      "cell_type": "code",
      "metadata": {
        "id": "VRZZtaRCJd3_"
      },
      "source": [
        "import warnings\n",
        "warnings.filterwarnings('ignore')\n",
        "import numpy as np\n",
        "import pandas as pd\n",
        "import seaborn as sns\n",
        "import matplotlib.pyplot as plt\n",
        "from sklearn.model_selection import train_test_split\n",
        "from sklearn import preprocessing\n",
        "from sklearn import metrics\n",
        "from sklearn.metrics import classification_report, confusion_matrix\n",
        "from sklearn.neighbors import KNeighborsClassifier\n",
        "import pickle\n",
        "from pycaret.classification import *"
      ],
      "execution_count": null,
      "outputs": []
    },
    {
      "cell_type": "markdown",
      "metadata": {
        "id": "SWNnmZFdJd4B"
      },
      "source": [
        "## Description of the sequence of actions <a class=\"anchor\" id=\"contents\"></a>\n",
        "- [Introduction](#Introduction)\n",
        "- [Dataset description](#Dataset-description)\n",
        "- [Task of the hackathon](#Task-of-the-hackathon)"
      ]
    },
    {
      "cell_type": "markdown",
      "metadata": {
        "id": "GK7aNuzYJd4C"
      },
      "source": [
        "### Introduction\n",
        "[back to table of contents](#contents)\n",
        "\n",
        "In the Jupyter notebook presented, we are introducing an approach to determine lithology from labeled core and well log data for one oil and gas field. The lithology labels from core data are used to train a supervised machine learning algorithm to predict lithology from well log response. This algorithm can be extended to any other reservoir to improve rock type prediction.\n",
        "\n",
        "Coring is an expensive operation, leading to only a small number wells in specific intervals core is retrieved. Opposite to coring, well logging is relatively inexpensive and is a standard operation. The relationship between lithology and well log data is often overwhelming, complex, and nonlinear. Recently, many studies have shown that machine learning algorithms could improve lithology prediction. The main benefits from improved lithology prediction accuracy would be cost and time efficiency which is especially important for decision-making process in reservoir evaluation and management on early stages of field development.\n",
        "\n",
        "As a baseline solution for the hackathon, we are proposing a k-nearest neighbors classification machine learning algorithm. The aim of supervised learning is to label a small portion of a dataset and allow the algorithm to automate the rest. Such data-driven analysis may optimize well logging, coring, and core analysis program.\n",
        "\n",
        "Available to participants is a dataset (`Train-dataset.csv`) contains well log curves from 11 wells across one field."
      ]
    },
    {
      "cell_type": "markdown",
      "metadata": {
        "id": "5dLpcmHPJd4C"
      },
      "source": [
        "### Dataset description\n",
        "[back to table of contents](#contents)\n",
        "#### Gamma ray log (`GR`)\n",
        "Gamma ray log measures naturally occurring radioactivity of a formation. GR is mainly used for determination of the shaliness of a formation. Values of gamma ray log will be low in clay-free rocks such as sandstones (composed of non-radioactive quartz), limestones, dolostones, anhydrites, most salts and coals, but, on the contrary, high in shales because of high concentrations of radioactive material. However, clean sandstone (i.e., with low shale content) might also produce a high gamma ray response if the sandstone contains potassium feldspars, micas, organic materials (with absorbed uranium), uranium-rich waters or radioactive minerals. Limestones and dolostone also can contain radioactive organic materials or uranium-rich waters. Some coals could be radioactive due to presence of radioactive elements such uranium, thorium, potassium-40, radium and polonium.\n",
        "\n",
        "#### Compensated neutron / Thermal Neutron Porosity log (`CN`)\n",
        "Neutron log is counting the amount of hydrogen atoms in a formation. The tool operates by bombarding the formation with high energy neutrons. These neutrons collide with hydrogen atoms and undergo scattering in the formation, losing energy and producing high energy gamma rays after absorbtion. These high energy gamma rays relate to formation porosity. CN is given in porosity units after being calibrated to become a direct indicator of porosity magnitude with some approximation. There are anomalous absorbers of neutrons such as chlorium that can significantly change total flow of neutrons and produced gamma rays. Hydrogen is concentrated in fluids (oil and water) in pores and hence neutron log is an indicator of porosity, but hydrogen is also contained in chemical structure of minerals, which is significant in shales. Some pores can contain gas, which presented with low concentration of hydrogen, then will not reflects porosity.\n",
        "\n",
        "#### Density (`DEN`)\n",
        "Density log is related to the bulk density of formation. The tool principle is based on a radioactive source and counter. As the tool is run against the borehole wall it emits radioactive particles that interact with electrons in formation via Compton scattering, resulting gamma ray is counted and analyzed to determine the bulk density of a rock. The bulk density is the overall density of the matrix and the fluids (water, oil, gas) within the pores. Hence the traditional use of density log is determination of porosity. In formation with low porosity, measured density values will be closer to the mineralogical (matrix) density, and with increase of porosity density values will get lower. Density porosity is often considered to be better than CN and Sonic Log in terrigenous rocks because it is less affected by shaliness since quartz, feldspar and dry clay mineral have comparable densities. Measured density curve is used for lithology differentiation, especially in combination with CN.\n",
        "\n",
        "#### Resistivity (`RT`)\n",
        "Resistivity log is an indicator of capability of the formation to prevent current flow through it. Hydrocarbons and non-porous rocks do not conduct electric current, but when rock is porous, and pores are interconnected and saturated with formation water, current can flow. Therefore, a difference in resistivity of non-porous rocks, hydrocarbon saturated formation and saline water saturated formation exists and it is essential in identification of hydrocarbon bearing zones. There are other factors also affecting resistivity values. Clay and other minerals, such as pyrite, are conductive and reduce the resistivity values.\n",
        "\n",
        "#### Metadata\n",
        "Dataset contains metadata columns:\n",
        "- `WELL` - name of a well\n",
        "- `X` - coordinate\n",
        "- `Y` - coordinate\n",
        "- `MD` - measured depth of a well log response\n",
        "- `DEPOSITIONAL_ENVIRONMENT` - describes the conditions in which the sediments is deposited. Different depositional environments influence on trend of some well log curves and presence of certain lithology classes\n",
        "- `LITH_NAME` is a lithology class label\n",
        "- `LITH_CODE` is a lithology code\n",
        "\n",
        "The following materias used for prepare well-log curves description:\n",
        "1. Darling, T.. (2005). Well Logging and Formation Evaluation. 10.1016/B978-0-7506-7883-4.X5000-1. \n",
        "2. Serra, Oberto. (1984). Fundamentals of well-log interpretation. Vol. 1: The acquisition of logging data.\n",
        "3. http://homepages.see.leeds.ac.uk/~earpwjg/PG_EN/CD%20Contents/GGL-66565%20Petrophysics%20English/Contents.PDF"
      ]
    },
    {
      "cell_type": "markdown",
      "metadata": {
        "id": "ib4YKxS5Jd4D"
      },
      "source": [
        "### Task of the hackathon\n",
        "[back to table of contents](#contents)\n",
        "\n",
        "The validation of your prediction will be performed on a validation dataset (`Validation-dataset.csv`) with a similar lithology class distribution as the training set. The metric by which the solution will be evaluated is weighted F1 score. We encourage participants to try additional features that could increase the F1 score of the model. For example, look for the spatial correlation of the features, explore the relation between discrete variables or try to find some lateral trend in the data.\n",
        "\n",
        "Your task as a participant is to make the best lithology prediction you can and submit your prediction in a CSV file that contains only one column with predicted class of lithology (`LITH_CODE`). CSV file with prediction should not contain the header."
      ]
    },
    {
      "cell_type": "markdown",
      "metadata": {
        "id": "dwel92Y4Mqvo"
      },
      "source": [
        "## Work with the data"
      ]
    },
    {
      "cell_type": "markdown",
      "metadata": {
        "id": "XgA7ZaShJd4E"
      },
      "source": [
        "### Inspect available logs and interpretations\n"
      ]
    },
    {
      "cell_type": "code",
      "metadata": {
        "id": "a53yX-EcPekr"
      },
      "source": [
        "val_df = pd.read_csv(VAL)\n"
      ],
      "execution_count": null,
      "outputs": []
    },
    {
      "cell_type": "code",
      "metadata": {
        "id": "_zRfq9xOJd4E",
        "colab": {
          "base_uri": "https://localhost:8080/"
        },
        "outputId": "c02c63bc-ec63-407e-c49c-52be2150a4df"
      },
      "source": [
        "df = pd.read_csv(TRAIN)\n",
        "df.info()"
      ],
      "execution_count": null,
      "outputs": [
        {
          "output_type": "stream",
          "text": [
            "<class 'pandas.core.frame.DataFrame'>\n",
            "RangeIndex: 45749 entries, 0 to 45748\n",
            "Data columns (total 11 columns):\n",
            " #   Column                    Non-Null Count  Dtype  \n",
            "---  ------                    --------------  -----  \n",
            " 0   WELL                      45749 non-null  object \n",
            " 1   X                         45749 non-null  float64\n",
            " 2   Y                         45749 non-null  float64\n",
            " 3   MD                        45749 non-null  float64\n",
            " 4   GR                        45749 non-null  float64\n",
            " 5   RT                        45749 non-null  float64\n",
            " 6   CN                        45749 non-null  float64\n",
            " 7   DEN                       45749 non-null  float64\n",
            " 8   DEPOSITIONAL_ENVIRONMENT  45749 non-null  object \n",
            " 9   LITH_NAME                 45749 non-null  object \n",
            " 10  LITH_CODE                 45749 non-null  int64  \n",
            "dtypes: float64(7), int64(1), object(3)\n",
            "memory usage: 3.8+ MB\n"
          ],
          "name": "stdout"
        }
      ]
    },
    {
      "cell_type": "code",
      "metadata": {
        "id": "IGw_O_78Jd4E",
        "colab": {
          "base_uri": "https://localhost:8080/",
          "height": 297
        },
        "outputId": "6fa997f0-e90b-4988-dcc7-4cd749e712c1"
      },
      "source": [
        "df.sample(8)"
      ],
      "execution_count": null,
      "outputs": [
        {
          "output_type": "execute_result",
          "data": {
            "text/html": [
              "<div>\n",
              "<style scoped>\n",
              "    .dataframe tbody tr th:only-of-type {\n",
              "        vertical-align: middle;\n",
              "    }\n",
              "\n",
              "    .dataframe tbody tr th {\n",
              "        vertical-align: top;\n",
              "    }\n",
              "\n",
              "    .dataframe thead th {\n",
              "        text-align: right;\n",
              "    }\n",
              "</style>\n",
              "<table border=\"1\" class=\"dataframe\">\n",
              "  <thead>\n",
              "    <tr style=\"text-align: right;\">\n",
              "      <th></th>\n",
              "      <th>WELL</th>\n",
              "      <th>X</th>\n",
              "      <th>Y</th>\n",
              "      <th>MD</th>\n",
              "      <th>GR</th>\n",
              "      <th>RT</th>\n",
              "      <th>CN</th>\n",
              "      <th>DEN</th>\n",
              "      <th>DEPOSITIONAL_ENVIRONMENT</th>\n",
              "      <th>LITH_NAME</th>\n",
              "      <th>LITH_CODE</th>\n",
              "    </tr>\n",
              "  </thead>\n",
              "  <tbody>\n",
              "    <tr>\n",
              "      <th>42084</th>\n",
              "      <td>Well-10</td>\n",
              "      <td>3.0000</td>\n",
              "      <td>0.0000</td>\n",
              "      <td>1909.200</td>\n",
              "      <td>107.31330</td>\n",
              "      <td>3.58067</td>\n",
              "      <td>0.28069</td>\n",
              "      <td>2.41590</td>\n",
              "      <td>Marine</td>\n",
              "      <td>Clay marl</td>\n",
              "      <td>400</td>\n",
              "    </tr>\n",
              "    <tr>\n",
              "      <th>36</th>\n",
              "      <td>Well-1</td>\n",
              "      <td>0.8179</td>\n",
              "      <td>2.9814</td>\n",
              "      <td>1605.600</td>\n",
              "      <td>81.67400</td>\n",
              "      <td>3.18000</td>\n",
              "      <td>0.21900</td>\n",
              "      <td>2.39400</td>\n",
              "      <td>Marine</td>\n",
              "      <td>Sandy marl</td>\n",
              "      <td>1300</td>\n",
              "    </tr>\n",
              "    <tr>\n",
              "      <th>13966</th>\n",
              "      <td>Well-11</td>\n",
              "      <td>0.7564</td>\n",
              "      <td>1.9833</td>\n",
              "      <td>1287.500</td>\n",
              "      <td>85.08060</td>\n",
              "      <td>3.72710</td>\n",
              "      <td>0.32763</td>\n",
              "      <td>2.30190</td>\n",
              "      <td>Transitional</td>\n",
              "      <td>Sandy marl</td>\n",
              "      <td>1300</td>\n",
              "    </tr>\n",
              "    <tr>\n",
              "      <th>37469</th>\n",
              "      <td>Well-10</td>\n",
              "      <td>3.0000</td>\n",
              "      <td>0.0000</td>\n",
              "      <td>1447.700</td>\n",
              "      <td>63.40050</td>\n",
              "      <td>3.91310</td>\n",
              "      <td>0.31504</td>\n",
              "      <td>2.11220</td>\n",
              "      <td>Transitional</td>\n",
              "      <td>Sandstone</td>\n",
              "      <td>600</td>\n",
              "    </tr>\n",
              "    <tr>\n",
              "      <th>25690</th>\n",
              "      <td>Well-7</td>\n",
              "      <td>1.3109</td>\n",
              "      <td>2.0912</td>\n",
              "      <td>1290.783</td>\n",
              "      <td>85.63132</td>\n",
              "      <td>3.14640</td>\n",
              "      <td>0.33170</td>\n",
              "      <td>2.31029</td>\n",
              "      <td>Transitional</td>\n",
              "      <td>Sandy marl</td>\n",
              "      <td>1300</td>\n",
              "    </tr>\n",
              "    <tr>\n",
              "      <th>39442</th>\n",
              "      <td>Well-10</td>\n",
              "      <td>3.0000</td>\n",
              "      <td>0.0000</td>\n",
              "      <td>1645.000</td>\n",
              "      <td>76.67880</td>\n",
              "      <td>3.06475</td>\n",
              "      <td>0.31497</td>\n",
              "      <td>2.23140</td>\n",
              "      <td>Transitional</td>\n",
              "      <td>Clay sandstone</td>\n",
              "      <td>500</td>\n",
              "    </tr>\n",
              "    <tr>\n",
              "      <th>18054</th>\n",
              "      <td>Well-11</td>\n",
              "      <td>0.7564</td>\n",
              "      <td>1.9833</td>\n",
              "      <td>1696.300</td>\n",
              "      <td>82.26110</td>\n",
              "      <td>3.78640</td>\n",
              "      <td>0.25723</td>\n",
              "      <td>2.32840</td>\n",
              "      <td>Marine</td>\n",
              "      <td>Sandstone</td>\n",
              "      <td>600</td>\n",
              "    </tr>\n",
              "    <tr>\n",
              "      <th>43156</th>\n",
              "      <td>Well-10</td>\n",
              "      <td>3.0000</td>\n",
              "      <td>0.0000</td>\n",
              "      <td>2016.400</td>\n",
              "      <td>97.36530</td>\n",
              "      <td>2.78988</td>\n",
              "      <td>0.28901</td>\n",
              "      <td>2.45950</td>\n",
              "      <td>Marine</td>\n",
              "      <td>Clay marl</td>\n",
              "      <td>400</td>\n",
              "    </tr>\n",
              "  </tbody>\n",
              "</table>\n",
              "</div>"
            ],
            "text/plain": [
              "          WELL       X       Y        MD         GR       RT       CN  \\\n",
              "42084  Well-10  3.0000  0.0000  1909.200  107.31330  3.58067  0.28069   \n",
              "36      Well-1  0.8179  2.9814  1605.600   81.67400  3.18000  0.21900   \n",
              "13966  Well-11  0.7564  1.9833  1287.500   85.08060  3.72710  0.32763   \n",
              "37469  Well-10  3.0000  0.0000  1447.700   63.40050  3.91310  0.31504   \n",
              "25690   Well-7  1.3109  2.0912  1290.783   85.63132  3.14640  0.33170   \n",
              "39442  Well-10  3.0000  0.0000  1645.000   76.67880  3.06475  0.31497   \n",
              "18054  Well-11  0.7564  1.9833  1696.300   82.26110  3.78640  0.25723   \n",
              "43156  Well-10  3.0000  0.0000  2016.400   97.36530  2.78988  0.28901   \n",
              "\n",
              "           DEN DEPOSITIONAL_ENVIRONMENT       LITH_NAME  LITH_CODE  \n",
              "42084  2.41590                   Marine       Clay marl        400  \n",
              "36     2.39400                   Marine      Sandy marl       1300  \n",
              "13966  2.30190             Transitional      Sandy marl       1300  \n",
              "37469  2.11220             Transitional       Sandstone        600  \n",
              "25690  2.31029             Transitional      Sandy marl       1300  \n",
              "39442  2.23140             Transitional  Clay sandstone        500  \n",
              "18054  2.32840                   Marine       Sandstone        600  \n",
              "43156  2.45950                   Marine       Clay marl        400  "
            ]
          },
          "metadata": {
            "tags": []
          },
          "execution_count": 8
        }
      ]
    },
    {
      "cell_type": "code",
      "metadata": {
        "colab": {
          "base_uri": "https://localhost:8080/"
        },
        "id": "-C7Isu1JO8cX",
        "outputId": "cbbb3a62-2691-448a-b94f-526352764bd1"
      },
      "source": [
        "df.isna().sum()"
      ],
      "execution_count": null,
      "outputs": [
        {
          "output_type": "execute_result",
          "data": {
            "text/plain": [
              "WELL                        0\n",
              "X                           0\n",
              "Y                           0\n",
              "MD                          0\n",
              "GR                          0\n",
              "RT                          0\n",
              "CN                          0\n",
              "DEN                         0\n",
              "DEPOSITIONAL_ENVIRONMENT    0\n",
              "LITH_NAME                   0\n",
              "LITH_CODE                   0\n",
              "dtype: int64"
            ]
          },
          "metadata": {
            "tags": []
          },
          "execution_count": 9
        }
      ]
    },
    {
      "cell_type": "markdown",
      "metadata": {
        "id": "mXcOwj0AOWiW"
      },
      "source": [
        "Look at unique values of categorial features"
      ]
    },
    {
      "cell_type": "code",
      "metadata": {
        "colab": {
          "base_uri": "https://localhost:8080/"
        },
        "id": "QEJSST3jOa8G",
        "outputId": "dd29d6e6-e736-47eb-e818-af86fba6bea6"
      },
      "source": [
        "df['WELL'].unique()"
      ],
      "execution_count": null,
      "outputs": [
        {
          "output_type": "execute_result",
          "data": {
            "text/plain": [
              "array(['Well-1', 'Well-9', 'Well-4', 'Well-2', 'Well-3', 'Well-8',\n",
              "       'Well-5', 'Well-6', 'Well-11', 'Well-7', 'Well-10'], dtype=object)"
            ]
          },
          "metadata": {
            "tags": []
          },
          "execution_count": 10
        }
      ]
    },
    {
      "cell_type": "code",
      "metadata": {
        "colab": {
          "base_uri": "https://localhost:8080/"
        },
        "id": "OOqwhC_NOdcX",
        "outputId": "784bb26e-ead5-4d61-ac26-b5a9612f20e5"
      },
      "source": [
        "df['DEPOSITIONAL_ENVIRONMENT'].unique()"
      ],
      "execution_count": null,
      "outputs": [
        {
          "output_type": "execute_result",
          "data": {
            "text/plain": [
              "array(['Marine', 'Continental', 'Transitional'], dtype=object)"
            ]
          },
          "metadata": {
            "tags": []
          },
          "execution_count": 11
        }
      ]
    },
    {
      "cell_type": "code",
      "metadata": {
        "colab": {
          "base_uri": "https://localhost:8080/"
        },
        "id": "k-AA5j3NOgkn",
        "outputId": "023baf69-d5bf-4094-bda2-0d6dcb670ead"
      },
      "source": [
        "df['LITH_NAME'].unique()"
      ],
      "execution_count": null,
      "outputs": [
        {
          "output_type": "execute_result",
          "data": {
            "text/plain": [
              "array(['Marly sandstone', 'Sandy marl', 'Sandstone', 'Coal clay',\n",
              "       'Marl clay', 'Clay', 'Siltstone clay', 'Tight', 'Clay sandstone',\n",
              "       'Marl', 'Clay marl', 'Siltstone/Loess', 'Coal'], dtype=object)"
            ]
          },
          "metadata": {
            "tags": []
          },
          "execution_count": 12
        }
      ]
    },
    {
      "cell_type": "markdown",
      "metadata": {
        "id": "29BznKf9Jd4F"
      },
      "source": [
        "There are 11 wells in the training dataset:"
      ]
    },
    {
      "cell_type": "code",
      "metadata": {
        "id": "2ICoPJ3AJd4F",
        "colab": {
          "base_uri": "https://localhost:8080/"
        },
        "outputId": "726c6b9a-d791-495c-e128-34269fd676e9"
      },
      "source": [
        "wells = df['WELL'].unique()\n",
        "print(wells)"
      ],
      "execution_count": null,
      "outputs": [
        {
          "output_type": "stream",
          "text": [
            "['Well-1' 'Well-9' 'Well-4' 'Well-2' 'Well-3' 'Well-8' 'Well-5' 'Well-6'\n",
            " 'Well-11' 'Well-7' 'Well-10']\n"
          ],
          "name": "stdout"
        }
      ]
    },
    {
      "cell_type": "markdown",
      "metadata": {
        "id": "X8Eo7x-1Jd4G"
      },
      "source": [
        "See how each lithology class is presented in dataset:"
      ]
    },
    {
      "cell_type": "code",
      "metadata": {
        "id": "ePIl1iscJd4G",
        "colab": {
          "base_uri": "https://localhost:8080/"
        },
        "outputId": "9119e582-ad2e-4fec-8d10-6f8d402d3535"
      },
      "source": [
        "df['LITH_NAME'].value_counts()"
      ],
      "execution_count": null,
      "outputs": [
        {
          "output_type": "execute_result",
          "data": {
            "text/plain": [
              "Sandstone          11572\n",
              "Clay marl           8054\n",
              "Clay                7716\n",
              "Clay sandstone      6496\n",
              "Sandy marl          5677\n",
              "Coal                2547\n",
              "Marl                1236\n",
              "Marly sandstone      889\n",
              "Tight                693\n",
              "Coal clay            443\n",
              "Siltstone clay       340\n",
              "Marl clay             83\n",
              "Siltstone/Loess        3\n",
              "Name: LITH_NAME, dtype: int64"
            ]
          },
          "metadata": {
            "tags": []
          },
          "execution_count": 14
        }
      ]
    },
    {
      "cell_type": "markdown",
      "metadata": {
        "id": "xNsYN5v3Jd4G"
      },
      "source": [
        "Or plot lithology distribution to get the clear picture:"
      ]
    },
    {
      "cell_type": "code",
      "metadata": {
        "id": "oCm6WWoBJd4H"
      },
      "source": [
        "lithology_color = {100: '#997950',\n",
        "                    200: '#cccccc',\n",
        "                    300: '#ffff00',\n",
        "                    400: '#ffccff',\n",
        "                    500: '#006600',\n",
        "                    600: '#666600',\n",
        "                    700: '#F8DE7E',\n",
        "                    800: '#999DA0',\n",
        "                    900: '#9933ff',\n",
        "                    1000: '#ff6600',\n",
        "                    1100: '#000000',\n",
        "                    1200: '#98FB98',\n",
        "                    1300: '#ff9999',\n",
        "                    1400: '#CEB180',\n",
        "                    1500: '#3BB143'\n",
        "                    }\n",
        "\n",
        "lithology_key = {100: 'Clay',\n",
        "                 200: 'Siltstone/Loess',\n",
        "                 300: 'Marl',\n",
        "                 400: 'Clay marl',\n",
        "                 500: 'Clay sandstone',\n",
        "                 600: 'Sandstone',\n",
        "                 700: 'Limestone',\n",
        "                 800: 'Tight',\n",
        "                 900: 'Dolomite',\n",
        "                 1000: 'Coal',\n",
        "                 1100: 'Coal clay',\n",
        "                 1200: 'Marly sandstone',\n",
        "                 1300: 'Sandy marl',\n",
        "                 1400: 'Marl clay',\n",
        "                 1500: 'Siltstone clay'\n",
        "                  }"
      ],
      "execution_count": null,
      "outputs": []
    },
    {
      "cell_type": "code",
      "metadata": {
        "id": "h0Nqy4D1Jd4H"
      },
      "source": [
        "def autolabel(ax, bars, labels):\n",
        "    \"\"\"Attach a text label above each bar.\"\"\"\n",
        "    for bar, label in zip(bars, labels):\n",
        "        height = bar.get_height()\n",
        "        ax.annotate('{}'.format(label),\n",
        "                    xy=(bar.get_x() + bar.get_width() / 2, height),\n",
        "                    xytext=(0, 3),  # 3 points vertical offset\n",
        "                    textcoords=\"offset points\",\n",
        "                    ha='center', va='bottom')"
      ],
      "execution_count": null,
      "outputs": []
    },
    {
      "cell_type": "code",
      "metadata": {
        "id": "CEdpCuTXJd4H",
        "colab": {
          "base_uri": "https://localhost:8080/",
          "height": 538
        },
        "outputId": "a76c36bd-46a3-4ad7-81b5-b3e53800a9d2"
      },
      "source": [
        "counts = df['LITH_CODE'].value_counts()\n",
        "names = []\n",
        "percentage = []\n",
        "numbers = []\n",
        "colors = []\n",
        "N = df['LITH_CODE'].shape[0]\n",
        "for item in counts.iteritems():\n",
        "    names.append(lithology_key[item[0]])\n",
        "    percentage.append(float(item[1]) / N*100)\n",
        "    numbers.append(int(item[1]))\n",
        "    colors.append(lithology_color[item[0]])\n",
        "    \n",
        "fig, ax = plt.subplots(1, 1, figsize=(12, 8))\n",
        "bar = ax.bar(x=np.arange(len(names)), height=percentage, color=colors)\n",
        "ax.set_xticklabels(names, rotation=45)\n",
        "ax.set_xticks(np.arange(len(names)))\n",
        "ax.set_ylabel('Lithology presence (%)')\n",
        "\n",
        "autolabel(ax, bar, numbers)"
      ],
      "execution_count": null,
      "outputs": [
        {
          "output_type": "display_data",
          "data": {
            "image/png": "[encoded data removed]",
            "text/plain": [
              "<Figure size 864x576 with 1 Axes>"
            ]
          },
          "metadata": {
            "tags": [],
            "needs_background": "light"
          }
        }
      ]
    },
    {
      "cell_type": "code",
      "metadata": {
        "colab": {
          "base_uri": "https://localhost:8080/",
          "height": 879
        },
        "id": "QajnvtXmjj5B",
        "outputId": "116ffd1e-8b94-40bf-bac5-34b190d62e2c"
      },
      "source": [
        "target_distribution = df['LITH_CODE'].value_counts()\n",
        "target_distribution.plot.pie(figsize=(15, 15),\n",
        "                             title='Target Distribution',\n",
        "                             fontsize=10, \n",
        "                             legend=True, \n",
        "                             autopct=lambda v: \"{:0.1f}%\".format(v))"
      ],
      "execution_count": null,
      "outputs": [
        {
          "output_type": "execute_result",
          "data": {
            "text/plain": [
              "<matplotlib.axes._subplots.AxesSubplot at 0x7fc6f70b5150>"
            ]
          },
          "metadata": {
            "tags": []
          },
          "execution_count": 18
        },
        {
          "output_type": "display_data",
          "data": {
            "image/png": "[encoded data removed]",
            "text/plain": [
              "<Figure size 1080x1080 with 1 Axes>"
            ]
          },
          "metadata": {
            "tags": []
          }
        }
      ]
    },
    {
      "cell_type": "markdown",
      "metadata": {
        "id": "tw8G1rB4Jd4I"
      },
      "source": [
        "### Preparing data for training\n",
        "[back to table of contents](#contents)\n",
        "\n",
        "Selecting features for the model, scaling and train and test split"
      ]
    },
    {
      "cell_type": "markdown",
      "metadata": {
        "id": "lkfWjNOIqPZK"
      },
      "source": [
        "Dealing with outliers"
      ]
    },
    {
      "cell_type": "code",
      "metadata": {
        "id": "E8gipLymqRKJ"
      },
      "source": [
        "for col in ['MD','GR', 'RT', 'DEN', 'CN']:\n",
        "  q = df[col].quantile(0.99)\n",
        "  df = df[df[col] < q]"
      ],
      "execution_count": null,
      "outputs": []
    },
    {
      "cell_type": "code",
      "metadata": {
        "colab": {
          "base_uri": "https://localhost:8080/",
          "height": 204
        },
        "id": "4o2cO1wsqRPw",
        "outputId": "e8c433ef-bf5d-43a9-fd80-ff9e85a36e93"
      },
      "source": [
        "df.head()"
      ],
      "execution_count": null,
      "outputs": [
        {
          "output_type": "execute_result",
          "data": {
            "text/html": [
              "<div>\n",
              "<style scoped>\n",
              "    .dataframe tbody tr th:only-of-type {\n",
              "        vertical-align: middle;\n",
              "    }\n",
              "\n",
              "    .dataframe tbody tr th {\n",
              "        vertical-align: top;\n",
              "    }\n",
              "\n",
              "    .dataframe thead th {\n",
              "        text-align: right;\n",
              "    }\n",
              "</style>\n",
              "<table border=\"1\" class=\"dataframe\">\n",
              "  <thead>\n",
              "    <tr style=\"text-align: right;\">\n",
              "      <th></th>\n",
              "      <th>WELL</th>\n",
              "      <th>X</th>\n",
              "      <th>Y</th>\n",
              "      <th>MD</th>\n",
              "      <th>GR</th>\n",
              "      <th>RT</th>\n",
              "      <th>CN</th>\n",
              "      <th>DEN</th>\n",
              "      <th>DEPOSITIONAL_ENVIRONMENT</th>\n",
              "      <th>LITH_NAME</th>\n",
              "      <th>LITH_CODE</th>\n",
              "    </tr>\n",
              "  </thead>\n",
              "  <tbody>\n",
              "    <tr>\n",
              "      <th>0</th>\n",
              "      <td>Well-1</td>\n",
              "      <td>0.8179</td>\n",
              "      <td>2.9814</td>\n",
              "      <td>1602.0</td>\n",
              "      <td>83.939</td>\n",
              "      <td>3.166</td>\n",
              "      <td>0.250</td>\n",
              "      <td>2.344</td>\n",
              "      <td>Marine</td>\n",
              "      <td>Marly sandstone</td>\n",
              "      <td>1200</td>\n",
              "    </tr>\n",
              "    <tr>\n",
              "      <th>1</th>\n",
              "      <td>Well-1</td>\n",
              "      <td>0.8179</td>\n",
              "      <td>2.9814</td>\n",
              "      <td>1602.1</td>\n",
              "      <td>84.166</td>\n",
              "      <td>3.135</td>\n",
              "      <td>0.246</td>\n",
              "      <td>2.352</td>\n",
              "      <td>Marine</td>\n",
              "      <td>Marly sandstone</td>\n",
              "      <td>1200</td>\n",
              "    </tr>\n",
              "    <tr>\n",
              "      <th>2</th>\n",
              "      <td>Well-1</td>\n",
              "      <td>0.8179</td>\n",
              "      <td>2.9814</td>\n",
              "      <td>1602.2</td>\n",
              "      <td>85.055</td>\n",
              "      <td>3.089</td>\n",
              "      <td>0.244</td>\n",
              "      <td>2.352</td>\n",
              "      <td>Marine</td>\n",
              "      <td>Marly sandstone</td>\n",
              "      <td>1200</td>\n",
              "    </tr>\n",
              "    <tr>\n",
              "      <th>3</th>\n",
              "      <td>Well-1</td>\n",
              "      <td>0.8179</td>\n",
              "      <td>2.9814</td>\n",
              "      <td>1602.3</td>\n",
              "      <td>86.352</td>\n",
              "      <td>3.042</td>\n",
              "      <td>0.242</td>\n",
              "      <td>2.355</td>\n",
              "      <td>Marine</td>\n",
              "      <td>Sandy marl</td>\n",
              "      <td>1300</td>\n",
              "    </tr>\n",
              "    <tr>\n",
              "      <th>4</th>\n",
              "      <td>Well-1</td>\n",
              "      <td>0.8179</td>\n",
              "      <td>2.9814</td>\n",
              "      <td>1602.4</td>\n",
              "      <td>87.614</td>\n",
              "      <td>3.003</td>\n",
              "      <td>0.241</td>\n",
              "      <td>2.369</td>\n",
              "      <td>Marine</td>\n",
              "      <td>Sandy marl</td>\n",
              "      <td>1300</td>\n",
              "    </tr>\n",
              "  </tbody>\n",
              "</table>\n",
              "</div>"
            ],
            "text/plain": [
              "     WELL       X       Y      MD      GR     RT     CN    DEN  \\\n",
              "0  Well-1  0.8179  2.9814  1602.0  83.939  3.166  0.250  2.344   \n",
              "1  Well-1  0.8179  2.9814  1602.1  84.166  3.135  0.246  2.352   \n",
              "2  Well-1  0.8179  2.9814  1602.2  85.055  3.089  0.244  2.352   \n",
              "3  Well-1  0.8179  2.9814  1602.3  86.352  3.042  0.242  2.355   \n",
              "4  Well-1  0.8179  2.9814  1602.4  87.614  3.003  0.241  2.369   \n",
              "\n",
              "  DEPOSITIONAL_ENVIRONMENT        LITH_NAME  LITH_CODE  \n",
              "0                   Marine  Marly sandstone       1200  \n",
              "1                   Marine  Marly sandstone       1200  \n",
              "2                   Marine  Marly sandstone       1200  \n",
              "3                   Marine       Sandy marl       1300  \n",
              "4                   Marine       Sandy marl       1300  "
            ]
          },
          "metadata": {
            "tags": []
          },
          "execution_count": 20
        }
      ]
    },
    {
      "cell_type": "code",
      "metadata": {
        "colab": {
          "base_uri": "https://localhost:8080/"
        },
        "id": "av9ls7ocqRVd",
        "outputId": "8128ee75-e1e7-4546-cc82-d230ab46844d"
      },
      "source": [
        "df.shape"
      ],
      "execution_count": null,
      "outputs": [
        {
          "output_type": "execute_result",
          "data": {
            "text/plain": [
              "(43502, 11)"
            ]
          },
          "metadata": {
            "tags": []
          },
          "execution_count": 21
        }
      ]
    },
    {
      "cell_type": "markdown",
      "metadata": {
        "id": "biNOerlzqQu0"
      },
      "source": [
        ""
      ]
    },
    {
      "cell_type": "markdown",
      "metadata": {
        "id": "v2qjyFvDTaey"
      },
      "source": [
        "Check features distributions"
      ]
    },
    {
      "cell_type": "code",
      "metadata": {
        "id": "N0zSKK7ZT5_w"
      },
      "source": [
        "cols_to_plot = ['MD','GR', 'RT', 'DEN', 'CN']\n",
        "\n",
        "def plot_distributions():\n",
        "  \n",
        "  fig, axs = plt.subplots(5, figsize=(8,12))\n",
        "  for ind in range(len(cols_to_plot)):\n",
        "    sns.distplot(df[cols_to_plot[ind]], ax=axs[ind])\n",
        "    axs[ind].set(ylabel=cols_to_plot[ind])"
      ],
      "execution_count": null,
      "outputs": []
    },
    {
      "cell_type": "code",
      "metadata": {
        "colab": {
          "base_uri": "https://localhost:8080/",
          "height": 714
        },
        "id": "0vI2jTPHgHNf",
        "outputId": "8dcf2204-4e01-4e0a-dbeb-14ee21ce7902"
      },
      "source": [
        "plot_distributions()"
      ],
      "execution_count": null,
      "outputs": [
        {
          "output_type": "display_data",
          "data": {
            "image/png": "[encoded data removed]",
            "text/plain": [
              "<Figure size 576x864 with 5 Axes>"
            ]
          },
          "metadata": {
            "tags": [],
            "needs_background": "light"
          }
        }
      ]
    },
    {
      "cell_type": "code",
      "metadata": {
        "colab": {
          "base_uri": "https://localhost:8080/",
          "height": 269
        },
        "id": "os_VLoRgcKAV",
        "outputId": "7dec0ddc-80fd-4d26-bcb8-ab35947a1b8a"
      },
      "source": [
        "sns.heatmap(df[cols_to_plot].corr(), cmap='coolwarm', annot=True);"
      ],
      "execution_count": null,
      "outputs": [
        {
          "output_type": "display_data",
          "data": {
            "image/png": "[encoded data removed]",
            "text/plain": [
              "<Figure size 432x288 with 2 Axes>"
            ]
          },
          "metadata": {
            "tags": [],
            "needs_background": "light"
          }
        }
      ]
    },
    {
      "cell_type": "markdown",
      "metadata": {
        "id": "UAMf3ZMKdlGc"
      },
      "source": [
        "Try to determine an optimal method to maximize normality of the distribution"
      ]
    },
    {
      "cell_type": "code",
      "metadata": {
        "id": "Qmds3eZycTn9"
      },
      "source": [
        "def diagnostics_skewness(df):\n",
        "    skew_initial_list = []\n",
        "    skew_pos_reciprocal_list = []\n",
        "    skew_neg_reciprocal_list = []\n",
        "    skew_log_list = []\n",
        "    skew_corr_log_001_list = []\n",
        "    skew_corr_log_01_list = []\n",
        "    skew_corr_log_1_list = []\n",
        "    skew_corr_log_5_list = []\n",
        "    skew_cbrt_list = []\n",
        "    skew_sqrt_list = []\n",
        "\n",
        "    df_ = df.copy()\n",
        "    for i in cols_to_plot:\n",
        "        df_[i] = df_[i].fillna(df_[i].median())\n",
        "        skew_initial = df_[i].skew()\n",
        "        skew_pos_reciprocal = (1 / (df_[i].clip(0.01))).skew()\n",
        "        skew_neg_reciprocal = (-1 / (df_[i].clip(0.01))).skew()\n",
        "        skew_log = np.log(df[i].clip(0.01)).skew()\n",
        "        skew_corr_log_001 = np.log((df_[i].clip(0.01) / df_[i].mean()) + 0.001).skew()\n",
        "        skew_corr_log_01 = np.log((df_[i].clip(0.01) / df_[i].mean()) + 0.01).skew()\n",
        "        skew_corr_log_1 = np.log((df_[i].clip(0.01) / df_[i].mean()) + 0.1).skew()\n",
        "        skew_corr_log_5 = np.log((df_[i].clip(0.01) / df_[i].mean()) + 0.5).skew()\n",
        "        skew_cbrt = np.cbrt(df_[i].abs()).skew()\n",
        "        skew_sqrt = np.sqrt(df_[i].abs()).skew()\n",
        "        skew_initial_list.append(skew_initial)\n",
        "        skew_pos_reciprocal_list.append(skew_pos_reciprocal)\n",
        "        skew_neg_reciprocal_list.append(skew_neg_reciprocal)\n",
        "        skew_log_list.append(skew_log)\n",
        "        skew_corr_log_001_list.append(skew_corr_log_001)\n",
        "        skew_corr_log_01_list.append(skew_corr_log_01)\n",
        "        skew_corr_log_1_list.append(skew_corr_log_1)\n",
        "        skew_corr_log_5_list.append(skew_corr_log_5)\n",
        "        skew_cbrt_list.append(skew_cbrt)\n",
        "        skew_sqrt_list.append(skew_sqrt)   \n",
        "\n",
        "    result = pd.DataFrame({'Feature': cols_to_plot,\n",
        "                           'Skew_init': skew_initial_list,\n",
        "                           'Skew_pos_recip': skew_pos_reciprocal_list,\n",
        "                           'Skew_neg_recip': skew_neg_reciprocal_list,\n",
        "                           'Skew_log': skew_log_list,\n",
        "                           'Skew_adj_log (k=0.001)': skew_corr_log_001_list,\n",
        "                           'Skew_adj_log (k=0.01)': skew_corr_log_01_list,\n",
        "                           'Skew_adj_log (k=0.1)': skew_corr_log_1_list,\n",
        "                           'Skew_adj_log (k=0.5)': skew_corr_log_5_list,\n",
        "                           'Skew_cbrt': skew_cbrt_list,\n",
        "                           'Skew_sqrt': skew_sqrt_list})\n",
        "    result = np.round(result.sort_values(by='Skew_init', ascending=False), 3)\n",
        "    cm = sns.light_palette('seagreen', as_cmap=True)\n",
        "    return(result.style.background_gradient(cmap=cm))"
      ],
      "execution_count": null,
      "outputs": []
    },
    {
      "cell_type": "code",
      "metadata": {
        "colab": {
          "base_uri": "https://localhost:8080/",
          "height": 145
        },
        "id": "uuu6lViEcTtL",
        "outputId": "3b00d3fc-af89-40b9-996d-0d105073fe87"
      },
      "source": [
        "diagnostics_skewness(df)"
      ],
      "execution_count": null,
      "outputs": [
        {
          "output_type": "execute_result",
          "data": {
            "text/html": [
              "<style  type=\"text/css\" >\n",
              "#T_96677f3c_b4e5_11eb_a0e0_0242ac1c0002row0_col1,#T_96677f3c_b4e5_11eb_a0e0_0242ac1c0002row0_col2,#T_96677f3c_b4e5_11eb_a0e0_0242ac1c0002row0_col4,#T_96677f3c_b4e5_11eb_a0e0_0242ac1c0002row0_col5,#T_96677f3c_b4e5_11eb_a0e0_0242ac1c0002row0_col6,#T_96677f3c_b4e5_11eb_a0e0_0242ac1c0002row0_col7,#T_96677f3c_b4e5_11eb_a0e0_0242ac1c0002row0_col8,#T_96677f3c_b4e5_11eb_a0e0_0242ac1c0002row0_col9,#T_96677f3c_b4e5_11eb_a0e0_0242ac1c0002row0_col10,#T_96677f3c_b4e5_11eb_a0e0_0242ac1c0002row2_col3{\n",
              "            background-color:  #2e8b57;\n",
              "            color:  #000000;\n",
              "        }#T_96677f3c_b4e5_11eb_a0e0_0242ac1c0002row0_col3,#T_96677f3c_b4e5_11eb_a0e0_0242ac1c0002row2_col2,#T_96677f3c_b4e5_11eb_a0e0_0242ac1c0002row4_col1,#T_96677f3c_b4e5_11eb_a0e0_0242ac1c0002row4_col4,#T_96677f3c_b4e5_11eb_a0e0_0242ac1c0002row4_col5,#T_96677f3c_b4e5_11eb_a0e0_0242ac1c0002row4_col6,#T_96677f3c_b4e5_11eb_a0e0_0242ac1c0002row4_col7,#T_96677f3c_b4e5_11eb_a0e0_0242ac1c0002row4_col8,#T_96677f3c_b4e5_11eb_a0e0_0242ac1c0002row4_col9,#T_96677f3c_b4e5_11eb_a0e0_0242ac1c0002row4_col10{\n",
              "            background-color:  #ebf3ed;\n",
              "            color:  #000000;\n",
              "        }#T_96677f3c_b4e5_11eb_a0e0_0242ac1c0002row1_col1{\n",
              "            background-color:  #85bb9c;\n",
              "            color:  #000000;\n",
              "        }#T_96677f3c_b4e5_11eb_a0e0_0242ac1c0002row1_col2{\n",
              "            background-color:  #7db696;\n",
              "            color:  #000000;\n",
              "        }#T_96677f3c_b4e5_11eb_a0e0_0242ac1c0002row1_col3{\n",
              "            background-color:  #9cc7ae;\n",
              "            color:  #000000;\n",
              "        }#T_96677f3c_b4e5_11eb_a0e0_0242ac1c0002row1_col4,#T_96677f3c_b4e5_11eb_a0e0_0242ac1c0002row1_col5{\n",
              "            background-color:  #3d9363;\n",
              "            color:  #000000;\n",
              "        }#T_96677f3c_b4e5_11eb_a0e0_0242ac1c0002row1_col6{\n",
              "            background-color:  #3e9463;\n",
              "            color:  #000000;\n",
              "        }#T_96677f3c_b4e5_11eb_a0e0_0242ac1c0002row1_col7{\n",
              "            background-color:  #46986a;\n",
              "            color:  #000000;\n",
              "        }#T_96677f3c_b4e5_11eb_a0e0_0242ac1c0002row1_col8{\n",
              "            background-color:  #59a379;\n",
              "            color:  #000000;\n",
              "        }#T_96677f3c_b4e5_11eb_a0e0_0242ac1c0002row1_col9{\n",
              "            background-color:  #5aa37a;\n",
              "            color:  #000000;\n",
              "        }#T_96677f3c_b4e5_11eb_a0e0_0242ac1c0002row1_col10{\n",
              "            background-color:  #66aa84;\n",
              "            color:  #000000;\n",
              "        }#T_96677f3c_b4e5_11eb_a0e0_0242ac1c0002row2_col1{\n",
              "            background-color:  #95c3a9;\n",
              "            color:  #000000;\n",
              "        }#T_96677f3c_b4e5_11eb_a0e0_0242ac1c0002row2_col4{\n",
              "            background-color:  #429667;\n",
              "            color:  #000000;\n",
              "        }#T_96677f3c_b4e5_11eb_a0e0_0242ac1c0002row2_col5{\n",
              "            background-color:  #439667;\n",
              "            color:  #000000;\n",
              "        }#T_96677f3c_b4e5_11eb_a0e0_0242ac1c0002row2_col6{\n",
              "            background-color:  #449769;\n",
              "            color:  #000000;\n",
              "        }#T_96677f3c_b4e5_11eb_a0e0_0242ac1c0002row2_col7{\n",
              "            background-color:  #529e73;\n",
              "            color:  #000000;\n",
              "        }#T_96677f3c_b4e5_11eb_a0e0_0242ac1c0002row2_col8,#T_96677f3c_b4e5_11eb_a0e0_0242ac1c0002row2_col9{\n",
              "            background-color:  #6bac87;\n",
              "            color:  #000000;\n",
              "        }#T_96677f3c_b4e5_11eb_a0e0_0242ac1c0002row2_col10{\n",
              "            background-color:  #78b492;\n",
              "            color:  #000000;\n",
              "        }#T_96677f3c_b4e5_11eb_a0e0_0242ac1c0002row3_col1{\n",
              "            background-color:  #d5e7dc;\n",
              "            color:  #000000;\n",
              "        }#T_96677f3c_b4e5_11eb_a0e0_0242ac1c0002row3_col2{\n",
              "            background-color:  #d9e9df;\n",
              "            color:  #000000;\n",
              "        }#T_96677f3c_b4e5_11eb_a0e0_0242ac1c0002row3_col3{\n",
              "            background-color:  #409565;\n",
              "            color:  #000000;\n",
              "        }#T_96677f3c_b4e5_11eb_a0e0_0242ac1c0002row3_col4{\n",
              "            background-color:  #85bb9d;\n",
              "            color:  #000000;\n",
              "        }#T_96677f3c_b4e5_11eb_a0e0_0242ac1c0002row3_col5{\n",
              "            background-color:  #86bb9d;\n",
              "            color:  #000000;\n",
              "        }#T_96677f3c_b4e5_11eb_a0e0_0242ac1c0002row3_col6{\n",
              "            background-color:  #87bc9e;\n",
              "            color:  #000000;\n",
              "        }#T_96677f3c_b4e5_11eb_a0e0_0242ac1c0002row3_col7{\n",
              "            background-color:  #94c3a8;\n",
              "            color:  #000000;\n",
              "        }#T_96677f3c_b4e5_11eb_a0e0_0242ac1c0002row3_col8{\n",
              "            background-color:  #add1bc;\n",
              "            color:  #000000;\n",
              "        }#T_96677f3c_b4e5_11eb_a0e0_0242ac1c0002row3_col9{\n",
              "            background-color:  #acd0bb;\n",
              "            color:  #000000;\n",
              "        }#T_96677f3c_b4e5_11eb_a0e0_0242ac1c0002row3_col10{\n",
              "            background-color:  #b9d7c6;\n",
              "            color:  #000000;\n",
              "        }#T_96677f3c_b4e5_11eb_a0e0_0242ac1c0002row4_col2{\n",
              "            background-color:  #5da57c;\n",
              "            color:  #000000;\n",
              "        }#T_96677f3c_b4e5_11eb_a0e0_0242ac1c0002row4_col3{\n",
              "            background-color:  #bcd9c8;\n",
              "            color:  #000000;\n",
              "        }</style><table id=\"T_96677f3c_b4e5_11eb_a0e0_0242ac1c0002\" ><thead>    <tr>        <th class=\"blank level0\" ></th>        <th class=\"col_heading level0 col0\" >Feature</th>        <th class=\"col_heading level0 col1\" >Skew_init</th>        <th class=\"col_heading level0 col2\" >Skew_pos_recip</th>        <th class=\"col_heading level0 col3\" >Skew_neg_recip</th>        <th class=\"col_heading level0 col4\" >Skew_log</th>        <th class=\"col_heading level0 col5\" >Skew_adj_log (k=0.001)</th>        <th class=\"col_heading level0 col6\" >Skew_adj_log (k=0.01)</th>        <th class=\"col_heading level0 col7\" >Skew_adj_log (k=0.1)</th>        <th class=\"col_heading level0 col8\" >Skew_adj_log (k=0.5)</th>        <th class=\"col_heading level0 col9\" >Skew_cbrt</th>        <th class=\"col_heading level0 col10\" >Skew_sqrt</th>    </tr></thead><tbody>\n",
              "                <tr>\n",
              "                        <th id=\"T_96677f3c_b4e5_11eb_a0e0_0242ac1c0002level0_row0\" class=\"row_heading level0 row0\" >2</th>\n",
              "                        <td id=\"T_96677f3c_b4e5_11eb_a0e0_0242ac1c0002row0_col0\" class=\"data row0 col0\" >RT</td>\n",
              "                        <td id=\"T_96677f3c_b4e5_11eb_a0e0_0242ac1c0002row0_col1\" class=\"data row0 col1\" >1.546000</td>\n",
              "                        <td id=\"T_96677f3c_b4e5_11eb_a0e0_0242ac1c0002row0_col2\" class=\"data row0 col2\" >2.151000</td>\n",
              "                        <td id=\"T_96677f3c_b4e5_11eb_a0e0_0242ac1c0002row0_col3\" class=\"data row0 col3\" >-2.151000</td>\n",
              "                        <td id=\"T_96677f3c_b4e5_11eb_a0e0_0242ac1c0002row0_col4\" class=\"data row0 col4\" >0.022000</td>\n",
              "                        <td id=\"T_96677f3c_b4e5_11eb_a0e0_0242ac1c0002row0_col5\" class=\"data row0 col5\" >0.024000</td>\n",
              "                        <td id=\"T_96677f3c_b4e5_11eb_a0e0_0242ac1c0002row0_col6\" class=\"data row0 col6\" >0.040000</td>\n",
              "                        <td id=\"T_96677f3c_b4e5_11eb_a0e0_0242ac1c0002row0_col7\" class=\"data row0 col7\" >0.177000</td>\n",
              "                        <td id=\"T_96677f3c_b4e5_11eb_a0e0_0242ac1c0002row0_col8\" class=\"data row0 col8\" >0.527000</td>\n",
              "                        <td id=\"T_96677f3c_b4e5_11eb_a0e0_0242ac1c0002row0_col9\" class=\"data row0 col9\" >0.524000</td>\n",
              "                        <td id=\"T_96677f3c_b4e5_11eb_a0e0_0242ac1c0002row0_col10\" class=\"data row0 col10\" >0.772000</td>\n",
              "            </tr>\n",
              "            <tr>\n",
              "                        <th id=\"T_96677f3c_b4e5_11eb_a0e0_0242ac1c0002level0_row1\" class=\"row_heading level0 row1\" >4</th>\n",
              "                        <td id=\"T_96677f3c_b4e5_11eb_a0e0_0242ac1c0002row1_col0\" class=\"data row1 col0\" >CN</td>\n",
              "                        <td id=\"T_96677f3c_b4e5_11eb_a0e0_0242ac1c0002row1_col1\" class=\"data row1 col1\" >0.603000</td>\n",
              "                        <td id=\"T_96677f3c_b4e5_11eb_a0e0_0242ac1c0002row1_col2\" class=\"data row1 col2\" >1.506000</td>\n",
              "                        <td id=\"T_96677f3c_b4e5_11eb_a0e0_0242ac1c0002row1_col3\" class=\"data row1 col3\" >-1.506000</td>\n",
              "                        <td id=\"T_96677f3c_b4e5_11eb_a0e0_0242ac1c0002row1_col4\" class=\"data row1 col4\" >-0.065000</td>\n",
              "                        <td id=\"T_96677f3c_b4e5_11eb_a0e0_0242ac1c0002row1_col5\" class=\"data row1 col5\" >-0.064000</td>\n",
              "                        <td id=\"T_96677f3c_b4e5_11eb_a0e0_0242ac1c0002row1_col6\" class=\"data row1 col6\" >-0.055000</td>\n",
              "                        <td id=\"T_96677f3c_b4e5_11eb_a0e0_0242ac1c0002row1_col7\" class=\"data row1 col7\" >0.024000</td>\n",
              "                        <td id=\"T_96677f3c_b4e5_11eb_a0e0_0242ac1c0002row1_col8\" class=\"data row1 col8\" >0.210000</td>\n",
              "                        <td id=\"T_96677f3c_b4e5_11eb_a0e0_0242ac1c0002row1_col9\" class=\"data row1 col9\" >0.193000</td>\n",
              "                        <td id=\"T_96677f3c_b4e5_11eb_a0e0_0242ac1c0002row1_col10\" class=\"data row1 col10\" >0.305000</td>\n",
              "            </tr>\n",
              "            <tr>\n",
              "                        <th id=\"T_96677f3c_b4e5_11eb_a0e0_0242ac1c0002level0_row2\" class=\"row_heading level0 row2\" >0</th>\n",
              "                        <td id=\"T_96677f3c_b4e5_11eb_a0e0_0242ac1c0002row2_col0\" class=\"data row2 col0\" >MD</td>\n",
              "                        <td id=\"T_96677f3c_b4e5_11eb_a0e0_0242ac1c0002row2_col1\" class=\"data row2 col1\" >0.422000</td>\n",
              "                        <td id=\"T_96677f3c_b4e5_11eb_a0e0_0242ac1c0002row2_col2\" class=\"data row2 col2\" >0.610000</td>\n",
              "                        <td id=\"T_96677f3c_b4e5_11eb_a0e0_0242ac1c0002row2_col3\" class=\"data row2 col3\" >-0.610000</td>\n",
              "                        <td id=\"T_96677f3c_b4e5_11eb_a0e0_0242ac1c0002row2_col4\" class=\"data row2 col4\" >-0.097000</td>\n",
              "                        <td id=\"T_96677f3c_b4e5_11eb_a0e0_0242ac1c0002row2_col5\" class=\"data row2 col5\" >-0.097000</td>\n",
              "                        <td id=\"T_96677f3c_b4e5_11eb_a0e0_0242ac1c0002row2_col6\" class=\"data row2 col6\" >-0.092000</td>\n",
              "                        <td id=\"T_96677f3c_b4e5_11eb_a0e0_0242ac1c0002row2_col7\" class=\"data row2 col7\" >-0.047000</td>\n",
              "                        <td id=\"T_96677f3c_b4e5_11eb_a0e0_0242ac1c0002row2_col8\" class=\"data row2 col8\" >0.079000</td>\n",
              "                        <td id=\"T_96677f3c_b4e5_11eb_a0e0_0242ac1c0002row2_col9\" class=\"data row2 col9\" >0.075000</td>\n",
              "                        <td id=\"T_96677f3c_b4e5_11eb_a0e0_0242ac1c0002row2_col10\" class=\"data row2 col10\" >0.162000</td>\n",
              "            </tr>\n",
              "            <tr>\n",
              "                        <th id=\"T_96677f3c_b4e5_11eb_a0e0_0242ac1c0002level0_row3\" class=\"row_heading level0 row3\" >3</th>\n",
              "                        <td id=\"T_96677f3c_b4e5_11eb_a0e0_0242ac1c0002row3_col0\" class=\"data row3 col0\" >DEN</td>\n",
              "                        <td id=\"T_96677f3c_b4e5_11eb_a0e0_0242ac1c0002row3_col1\" class=\"data row3 col1\" >-0.271000</td>\n",
              "                        <td id=\"T_96677f3c_b4e5_11eb_a0e0_0242ac1c0002row3_col2\" class=\"data row3 col2\" >0.760000</td>\n",
              "                        <td id=\"T_96677f3c_b4e5_11eb_a0e0_0242ac1c0002row3_col3\" class=\"data row3 col3\" >-0.760000</td>\n",
              "                        <td id=\"T_96677f3c_b4e5_11eb_a0e0_0242ac1c0002row3_col4\" class=\"data row3 col4\" >-0.487000</td>\n",
              "                        <td id=\"T_96677f3c_b4e5_11eb_a0e0_0242ac1c0002row3_col5\" class=\"data row3 col5\" >-0.487000</td>\n",
              "                        <td id=\"T_96677f3c_b4e5_11eb_a0e0_0242ac1c0002row3_col6\" class=\"data row3 col6\" >-0.484000</td>\n",
              "                        <td id=\"T_96677f3c_b4e5_11eb_a0e0_0242ac1c0002row3_col7\" class=\"data row3 col7\" >-0.464000</td>\n",
              "                        <td id=\"T_96677f3c_b4e5_11eb_a0e0_0242ac1c0002row3_col8\" class=\"data row3 col8\" >-0.407000</td>\n",
              "                        <td id=\"T_96677f3c_b4e5_11eb_a0e0_0242ac1c0002row3_col9\" class=\"data row3 col9\" >-0.410000</td>\n",
              "                        <td id=\"T_96677f3c_b4e5_11eb_a0e0_0242ac1c0002row3_col10\" class=\"data row3 col10\" >-0.373000</td>\n",
              "            </tr>\n",
              "            <tr>\n",
              "                        <th id=\"T_96677f3c_b4e5_11eb_a0e0_0242ac1c0002level0_row4\" class=\"row_heading level0 row4\" >1</th>\n",
              "                        <td id=\"T_96677f3c_b4e5_11eb_a0e0_0242ac1c0002row4_col0\" class=\"data row4 col0\" >GR</td>\n",
              "                        <td id=\"T_96677f3c_b4e5_11eb_a0e0_0242ac1c0002row4_col1\" class=\"data row4 col1\" >-0.510000</td>\n",
              "                        <td id=\"T_96677f3c_b4e5_11eb_a0e0_0242ac1c0002row4_col2\" class=\"data row4 col2\" >1.770000</td>\n",
              "                        <td id=\"T_96677f3c_b4e5_11eb_a0e0_0242ac1c0002row4_col3\" class=\"data row4 col3\" >-1.770000</td>\n",
              "                        <td id=\"T_96677f3c_b4e5_11eb_a0e0_0242ac1c0002row4_col4\" class=\"data row4 col4\" >-1.076000</td>\n",
              "                        <td id=\"T_96677f3c_b4e5_11eb_a0e0_0242ac1c0002row4_col5\" class=\"data row4 col5\" >-1.075000</td>\n",
              "                        <td id=\"T_96677f3c_b4e5_11eb_a0e0_0242ac1c0002row4_col6\" class=\"data row4 col6\" >-1.069000</td>\n",
              "                        <td id=\"T_96677f3c_b4e5_11eb_a0e0_0242ac1c0002row4_col7\" class=\"data row4 col7\" >-1.011000</td>\n",
              "                        <td id=\"T_96677f3c_b4e5_11eb_a0e0_0242ac1c0002row4_col8\" class=\"data row4 col8\" >-0.858000</td>\n",
              "                        <td id=\"T_96677f3c_b4e5_11eb_a0e0_0242ac1c0002row4_col9\" class=\"data row4 col9\" >-0.877000</td>\n",
              "                        <td id=\"T_96677f3c_b4e5_11eb_a0e0_0242ac1c0002row4_col10\" class=\"data row4 col10\" >-0.781000</td>\n",
              "            </tr>\n",
              "    </tbody></table>"
            ],
            "text/plain": [
              "<pandas.io.formats.style.Styler at 0x7fc6f09d3910>"
            ]
          },
          "metadata": {
            "tags": []
          },
          "execution_count": 26
        }
      ]
    },
    {
      "cell_type": "code",
      "metadata": {
        "id": "dGbtDA14cT1M"
      },
      "source": [
        "#df['RT'] = 1 / (df['RT'].clip(0.01)) #?\n",
        "#df['CN'] = np.cbrt(df['CN'].abs()) #?\n",
        "#df['MD'] = np.log((df['MD'].clip(0.01) / df['MD'].mean()) + 0.01)"
      ],
      "execution_count": null,
      "outputs": []
    },
    {
      "cell_type": "code",
      "metadata": {
        "id": "kYBOXFCfcT5w",
        "colab": {
          "base_uri": "https://localhost:8080/",
          "height": 714
        },
        "outputId": "63d7b3b9-ec47-419d-a718-7df7e70cf238"
      },
      "source": [
        "plot_distributions()"
      ],
      "execution_count": null,
      "outputs": [
        {
          "output_type": "display_data",
          "data": {
            "image/png": "[encoded data removed]",
            "text/plain": [
              "<Figure size 576x864 with 5 Axes>"
            ]
          },
          "metadata": {
            "tags": [],
            "needs_background": "light"
          }
        }
      ]
    },
    {
      "cell_type": "code",
      "metadata": {
        "id": "WEmBisAMgniE"
      },
      "source": [
        "if 0:\n",
        "  sns.set()\n",
        "  cols_to_plot = ['MD','GR', 'RT', 'DEN', 'CN']\n",
        "  sns.pairplot(df[cols_to_plot], size = 2.5)\n",
        "  plt.show()"
      ],
      "execution_count": null,
      "outputs": []
    },
    {
      "cell_type": "code",
      "metadata": {
        "id": "W3S8yq9RgnR1"
      },
      "source": [
        "MAPPING = {\n",
        "    'Continental': 1,\n",
        "    'Transitional': 2,\n",
        "    'Marine': 3,\n",
        "}\n",
        "\n",
        "df['D_Env']=df['DEPOSITIONAL_ENVIRONMENT'].apply(lambda x: MAPPING[x])"
      ],
      "execution_count": null,
      "outputs": []
    },
    {
      "cell_type": "markdown",
      "metadata": {
        "id": "_BYSuB4MP7Im"
      },
      "source": [
        "Train-test splitting"
      ]
    },
    {
      "cell_type": "code",
      "metadata": {
        "id": "T4VvyW-d4zQy"
      },
      "source": [
        "#!pip install scikit-learn==0.23.2 --force-reinstall"
      ],
      "execution_count": null,
      "outputs": []
    },
    {
      "cell_type": "code",
      "metadata": {
        "id": "COoTzD2UTZOa",
        "colab": {
          "base_uri": "https://localhost:8080/",
          "height": 1000,
          "referenced_widgets": [
            "d9226b3a2f844580924170160eb3063f",
            "33a1bba1a85642ddbae7941aa0cacbbf",
            "246dc0e719e24e8f8677966b212c51e5",
            "3a43a35f357c4d98ab6be75b5b18c594",
            "dbf611b54f724b72b023787e3010bb17",
            "ac20ccb62ba44e0ab0966c23d4f79219"
          ]
        },
        "outputId": "a4bcbad4-fab9-4efe-c19c-2e8f13879f4c"
      },
      "source": [
        "exp_reg = setup(\n",
        "    data = df.drop(columns=['WELL', 'LITH_NAME', 'DEPOSITIONAL_ENVIRONMENT']),\n",
        "    train_size=0.7,\n",
        "    target='LITH_CODE',\n",
        "    data_split_stratify=True,\n",
        "    normalize=True,\n",
        "    transformation=True,\n",
        "    remove_outliers=False,\n",
        "    polynomial_features=True,\n",
        "    polynomial_degree=2,\n",
        "    session_id=1616\n",
        ")"
      ],
      "execution_count": null,
      "outputs": [
        {
          "output_type": "display_data",
          "data": {
            "text/html": [
              "<div>\n",
              "<style scoped>\n",
              "    .dataframe tbody tr th:only-of-type {\n",
              "        vertical-align: middle;\n",
              "    }\n",
              "\n",
              "    .dataframe tbody tr th {\n",
              "        vertical-align: top;\n",
              "    }\n",
              "\n",
              "    .dataframe thead th {\n",
              "        text-align: right;\n",
              "    }\n",
              "</style>\n",
              "<table border=\"1\" class=\"dataframe\">\n",
              "  <thead>\n",
              "    <tr style=\"text-align: right;\">\n",
              "      <th></th>\n",
              "      <th>Description</th>\n",
              "      <th>Value</th>\n",
              "    </tr>\n",
              "  </thead>\n",
              "  <tbody>\n",
              "    <tr>\n",
              "      <th>0</th>\n",
              "      <td>session_id</td>\n",
              "      <td>1616</td>\n",
              "    </tr>\n",
              "    <tr>\n",
              "      <th>1</th>\n",
              "      <td>Target</td>\n",
              "      <td>LITH_CODE</td>\n",
              "    </tr>\n",
              "    <tr>\n",
              "      <th>2</th>\n",
              "      <td>Target Type</td>\n",
              "      <td>Multiclass</td>\n",
              "    </tr>\n",
              "    <tr>\n",
              "      <th>3</th>\n",
              "      <td>Label Encoded</td>\n",
              "      <td>100: 0, 1000: 1, 1100: 2, 1200: 3, 1300: 4, 14...</td>\n",
              "    </tr>\n",
              "    <tr>\n",
              "      <th>4</th>\n",
              "      <td>Original Data</td>\n",
              "      <td>(43502, 9)</td>\n",
              "    </tr>\n",
              "    <tr>\n",
              "      <th>5</th>\n",
              "      <td>Missing Values</td>\n",
              "      <td>False</td>\n",
              "    </tr>\n",
              "    <tr>\n",
              "      <th>6</th>\n",
              "      <td>Numeric Features</td>\n",
              "      <td>7</td>\n",
              "    </tr>\n",
              "    <tr>\n",
              "      <th>7</th>\n",
              "      <td>Categorical Features</td>\n",
              "      <td>1</td>\n",
              "    </tr>\n",
              "    <tr>\n",
              "      <th>8</th>\n",
              "      <td>Ordinal Features</td>\n",
              "      <td>False</td>\n",
              "    </tr>\n",
              "    <tr>\n",
              "      <th>9</th>\n",
              "      <td>High Cardinality Features</td>\n",
              "      <td>False</td>\n",
              "    </tr>\n",
              "    <tr>\n",
              "      <th>10</th>\n",
              "      <td>High Cardinality Method</td>\n",
              "      <td>None</td>\n",
              "    </tr>\n",
              "    <tr>\n",
              "      <th>11</th>\n",
              "      <td>Transformed Train Set</td>\n",
              "      <td>(30451, 10)</td>\n",
              "    </tr>\n",
              "    <tr>\n",
              "      <th>12</th>\n",
              "      <td>Transformed Test Set</td>\n",
              "      <td>(13051, 10)</td>\n",
              "    </tr>\n",
              "    <tr>\n",
              "      <th>13</th>\n",
              "      <td>Shuffle Train-Test</td>\n",
              "      <td>True</td>\n",
              "    </tr>\n",
              "    <tr>\n",
              "      <th>14</th>\n",
              "      <td>Stratify Train-Test</td>\n",
              "      <td>True</td>\n",
              "    </tr>\n",
              "    <tr>\n",
              "      <th>15</th>\n",
              "      <td>Fold Generator</td>\n",
              "      <td>StratifiedKFold</td>\n",
              "    </tr>\n",
              "    <tr>\n",
              "      <th>16</th>\n",
              "      <td>Fold Number</td>\n",
              "      <td>10</td>\n",
              "    </tr>\n",
              "    <tr>\n",
              "      <th>17</th>\n",
              "      <td>CPU Jobs</td>\n",
              "      <td>-1</td>\n",
              "    </tr>\n",
              "    <tr>\n",
              "      <th>18</th>\n",
              "      <td>Use GPU</td>\n",
              "      <td>False</td>\n",
              "    </tr>\n",
              "    <tr>\n",
              "      <th>19</th>\n",
              "      <td>Log Experiment</td>\n",
              "      <td>False</td>\n",
              "    </tr>\n",
              "    <tr>\n",
              "      <th>20</th>\n",
              "      <td>Experiment Name</td>\n",
              "      <td>clf-default-name</td>\n",
              "    </tr>\n",
              "    <tr>\n",
              "      <th>21</th>\n",
              "      <td>USI</td>\n",
              "      <td>dfa3</td>\n",
              "    </tr>\n",
              "    <tr>\n",
              "      <th>22</th>\n",
              "      <td>Imputation Type</td>\n",
              "      <td>simple</td>\n",
              "    </tr>\n",
              "    <tr>\n",
              "      <th>23</th>\n",
              "      <td>Iterative Imputation Iteration</td>\n",
              "      <td>None</td>\n",
              "    </tr>\n",
              "    <tr>\n",
              "      <th>24</th>\n",
              "      <td>Numeric Imputer</td>\n",
              "      <td>mean</td>\n",
              "    </tr>\n",
              "    <tr>\n",
              "      <th>25</th>\n",
              "      <td>Iterative Imputation Numeric Model</td>\n",
              "      <td>None</td>\n",
              "    </tr>\n",
              "    <tr>\n",
              "      <th>26</th>\n",
              "      <td>Categorical Imputer</td>\n",
              "      <td>constant</td>\n",
              "    </tr>\n",
              "    <tr>\n",
              "      <th>27</th>\n",
              "      <td>Iterative Imputation Categorical Model</td>\n",
              "      <td>None</td>\n",
              "    </tr>\n",
              "    <tr>\n",
              "      <th>28</th>\n",
              "      <td>Unknown Categoricals Handling</td>\n",
              "      <td>least_frequent</td>\n",
              "    </tr>\n",
              "    <tr>\n",
              "      <th>29</th>\n",
              "      <td>Normalize</td>\n",
              "      <td>True</td>\n",
              "    </tr>\n",
              "    <tr>\n",
              "      <th>30</th>\n",
              "      <td>Normalize Method</td>\n",
              "      <td>zscore</td>\n",
              "    </tr>\n",
              "    <tr>\n",
              "      <th>31</th>\n",
              "      <td>Transformation</td>\n",
              "      <td>True</td>\n",
              "    </tr>\n",
              "    <tr>\n",
              "      <th>32</th>\n",
              "      <td>Transformation Method</td>\n",
              "      <td>yeo-johnson</td>\n",
              "    </tr>\n",
              "    <tr>\n",
              "      <th>33</th>\n",
              "      <td>PCA</td>\n",
              "      <td>False</td>\n",
              "    </tr>\n",
              "    <tr>\n",
              "      <th>34</th>\n",
              "      <td>PCA Method</td>\n",
              "      <td>None</td>\n",
              "    </tr>\n",
              "    <tr>\n",
              "      <th>35</th>\n",
              "      <td>PCA Components</td>\n",
              "      <td>None</td>\n",
              "    </tr>\n",
              "    <tr>\n",
              "      <th>36</th>\n",
              "      <td>Ignore Low Variance</td>\n",
              "      <td>False</td>\n",
              "    </tr>\n",
              "    <tr>\n",
              "      <th>37</th>\n",
              "      <td>Combine Rare Levels</td>\n",
              "      <td>False</td>\n",
              "    </tr>\n",
              "    <tr>\n",
              "      <th>38</th>\n",
              "      <td>Rare Level Threshold</td>\n",
              "      <td>None</td>\n",
              "    </tr>\n",
              "    <tr>\n",
              "      <th>39</th>\n",
              "      <td>Numeric Binning</td>\n",
              "      <td>False</td>\n",
              "    </tr>\n",
              "    <tr>\n",
              "      <th>40</th>\n",
              "      <td>Remove Outliers</td>\n",
              "      <td>False</td>\n",
              "    </tr>\n",
              "    <tr>\n",
              "      <th>41</th>\n",
              "      <td>Outliers Threshold</td>\n",
              "      <td>None</td>\n",
              "    </tr>\n",
              "    <tr>\n",
              "      <th>42</th>\n",
              "      <td>Remove Multicollinearity</td>\n",
              "      <td>False</td>\n",
              "    </tr>\n",
              "    <tr>\n",
              "      <th>43</th>\n",
              "      <td>Multicollinearity Threshold</td>\n",
              "      <td>None</td>\n",
              "    </tr>\n",
              "    <tr>\n",
              "      <th>44</th>\n",
              "      <td>Clustering</td>\n",
              "      <td>False</td>\n",
              "    </tr>\n",
              "    <tr>\n",
              "      <th>45</th>\n",
              "      <td>Clustering Iteration</td>\n",
              "      <td>None</td>\n",
              "    </tr>\n",
              "    <tr>\n",
              "      <th>46</th>\n",
              "      <td>Polynomial Features</td>\n",
              "      <td>True</td>\n",
              "    </tr>\n",
              "    <tr>\n",
              "      <th>47</th>\n",
              "      <td>Polynomial Degree</td>\n",
              "      <td>2</td>\n",
              "    </tr>\n",
              "    <tr>\n",
              "      <th>48</th>\n",
              "      <td>Trignometry Features</td>\n",
              "      <td>False</td>\n",
              "    </tr>\n",
              "    <tr>\n",
              "      <th>49</th>\n",
              "      <td>Polynomial Threshold</td>\n",
              "      <td>0.1</td>\n",
              "    </tr>\n",
              "    <tr>\n",
              "      <th>50</th>\n",
              "      <td>Group Features</td>\n",
              "      <td>False</td>\n",
              "    </tr>\n",
              "    <tr>\n",
              "      <th>51</th>\n",
              "      <td>Feature Selection</td>\n",
              "      <td>False</td>\n",
              "    </tr>\n",
              "    <tr>\n",
              "      <th>52</th>\n",
              "      <td>Feature Selection Method</td>\n",
              "      <td>classic</td>\n",
              "    </tr>\n",
              "    <tr>\n",
              "      <th>53</th>\n",
              "      <td>Features Selection Threshold</td>\n",
              "      <td>None</td>\n",
              "    </tr>\n",
              "    <tr>\n",
              "      <th>54</th>\n",
              "      <td>Feature Interaction</td>\n",
              "      <td>False</td>\n",
              "    </tr>\n",
              "    <tr>\n",
              "      <th>55</th>\n",
              "      <td>Feature Ratio</td>\n",
              "      <td>False</td>\n",
              "    </tr>\n",
              "    <tr>\n",
              "      <th>56</th>\n",
              "      <td>Interaction Threshold</td>\n",
              "      <td>None</td>\n",
              "    </tr>\n",
              "    <tr>\n",
              "      <th>57</th>\n",
              "      <td>Fix Imbalance</td>\n",
              "      <td>False</td>\n",
              "    </tr>\n",
              "    <tr>\n",
              "      <th>58</th>\n",
              "      <td>Fix Imbalance Method</td>\n",
              "      <td>SMOTE</td>\n",
              "    </tr>\n",
              "  </tbody>\n",
              "</table>\n",
              "</div>"
            ],
            "text/plain": [
              "                               Description                                              Value\n",
              "0                               session_id                                               1616\n",
              "1                                   Target                                          LITH_CODE\n",
              "2                              Target Type                                         Multiclass\n",
              "3                            Label Encoded  100: 0, 1000: 1, 1100: 2, 1200: 3, 1300: 4, 14...\n",
              "4                            Original Data                                         (43502, 9)\n",
              "5                           Missing Values                                              False\n",
              "6                         Numeric Features                                                  7\n",
              "7                     Categorical Features                                                  1\n",
              "8                         Ordinal Features                                              False\n",
              "9                High Cardinality Features                                              False\n",
              "10                 High Cardinality Method                                               None\n",
              "11                   Transformed Train Set                                        (30451, 10)\n",
              "12                    Transformed Test Set                                        (13051, 10)\n",
              "13                      Shuffle Train-Test                                               True\n",
              "14                     Stratify Train-Test                                               True\n",
              "15                          Fold Generator                                    StratifiedKFold\n",
              "16                             Fold Number                                                 10\n",
              "17                                CPU Jobs                                                 -1\n",
              "18                                 Use GPU                                              False\n",
              "19                          Log Experiment                                              False\n",
              "20                         Experiment Name                                   clf-default-name\n",
              "21                                     USI                                               dfa3\n",
              "22                         Imputation Type                                             simple\n",
              "23          Iterative Imputation Iteration                                               None\n",
              "24                         Numeric Imputer                                               mean\n",
              "25      Iterative Imputation Numeric Model                                               None\n",
              "26                     Categorical Imputer                                           constant\n",
              "27  Iterative Imputation Categorical Model                                               None\n",
              "28           Unknown Categoricals Handling                                     least_frequent\n",
              "29                               Normalize                                               True\n",
              "30                        Normalize Method                                             zscore\n",
              "31                          Transformation                                               True\n",
              "32                   Transformation Method                                        yeo-johnson\n",
              "33                                     PCA                                              False\n",
              "34                              PCA Method                                               None\n",
              "35                          PCA Components                                               None\n",
              "36                     Ignore Low Variance                                              False\n",
              "37                     Combine Rare Levels                                              False\n",
              "38                    Rare Level Threshold                                               None\n",
              "39                         Numeric Binning                                              False\n",
              "40                         Remove Outliers                                              False\n",
              "41                      Outliers Threshold                                               None\n",
              "42                Remove Multicollinearity                                              False\n",
              "43             Multicollinearity Threshold                                               None\n",
              "44                              Clustering                                              False\n",
              "45                    Clustering Iteration                                               None\n",
              "46                     Polynomial Features                                               True\n",
              "47                       Polynomial Degree                                                  2\n",
              "48                    Trignometry Features                                              False\n",
              "49                    Polynomial Threshold                                                0.1\n",
              "50                          Group Features                                              False\n",
              "51                       Feature Selection                                              False\n",
              "52                Feature Selection Method                                            classic\n",
              "53            Features Selection Threshold                                               None\n",
              "54                     Feature Interaction                                              False\n",
              "55                           Feature Ratio                                              False\n",
              "56                   Interaction Threshold                                               None\n",
              "57                           Fix Imbalance                                              False\n",
              "58                    Fix Imbalance Method                                              SMOTE"
            ]
          },
          "metadata": {
            "tags": []
          }
        }
      ]
    },
    {
      "cell_type": "code",
      "metadata": {
        "id": "gDdyG_jyTZFT",
        "colab": {
          "base_uri": "https://localhost:8080/",
          "height": 331,
          "referenced_widgets": [
            "dd9e14fed62143cea371da0edc9a7a39",
            "3cd30b3543bc47ad943545d462e34c38",
            "b1ae342a61684388bbec233acba42aad"
          ]
        },
        "outputId": "b14ed9a2-fd9f-4b5d-fde7-168bfb2c28ba"
      },
      "source": [
        "%%time\n",
        "\n",
        "best_models = compare_models(sort='F1', fold=5, include=['xgboost', 'rf', 'et', 'catboost', 'dt', 'gbc', 'knn', 'lightgbm'], n_select=5)"
      ],
      "execution_count": null,
      "outputs": [
        {
          "output_type": "display_data",
          "data": {
            "text/html": [
              "<div>\n",
              "<style scoped>\n",
              "    .dataframe tbody tr th:only-of-type {\n",
              "        vertical-align: middle;\n",
              "    }\n",
              "\n",
              "    .dataframe tbody tr th {\n",
              "        vertical-align: top;\n",
              "    }\n",
              "\n",
              "    .dataframe thead th {\n",
              "        text-align: right;\n",
              "    }\n",
              "</style>\n",
              "<table border=\"1\" class=\"dataframe\">\n",
              "  <thead>\n",
              "    <tr style=\"text-align: right;\">\n",
              "      <th></th>\n",
              "      <th>Model</th>\n",
              "      <th>Accuracy</th>\n",
              "      <th>AUC</th>\n",
              "      <th>Recall</th>\n",
              "      <th>Prec.</th>\n",
              "      <th>F1</th>\n",
              "      <th>Kappa</th>\n",
              "      <th>MCC</th>\n",
              "      <th>TT (Sec)</th>\n",
              "    </tr>\n",
              "  </thead>\n",
              "  <tbody>\n",
              "    <tr>\n",
              "      <th>xgboost</th>\n",
              "      <td>Extreme Gradient Boosting</td>\n",
              "      <td>0.9357</td>\n",
              "      <td>0.0</td>\n",
              "      <td>0.8376</td>\n",
              "      <td>0.9351</td>\n",
              "      <td>0.9348</td>\n",
              "      <td>0.9227</td>\n",
              "      <td>0.9228</td>\n",
              "      <td>57.546</td>\n",
              "    </tr>\n",
              "    <tr>\n",
              "      <th>rf</th>\n",
              "      <td>Random Forest Classifier</td>\n",
              "      <td>0.9221</td>\n",
              "      <td>0.0</td>\n",
              "      <td>0.7985</td>\n",
              "      <td>0.9209</td>\n",
              "      <td>0.9200</td>\n",
              "      <td>0.9062</td>\n",
              "      <td>0.9064</td>\n",
              "      <td>4.700</td>\n",
              "    </tr>\n",
              "    <tr>\n",
              "      <th>et</th>\n",
              "      <td>Extra Trees Classifier</td>\n",
              "      <td>0.9104</td>\n",
              "      <td>0.0</td>\n",
              "      <td>0.8036</td>\n",
              "      <td>0.9094</td>\n",
              "      <td>0.9091</td>\n",
              "      <td>0.8922</td>\n",
              "      <td>0.8923</td>\n",
              "      <td>3.422</td>\n",
              "    </tr>\n",
              "    <tr>\n",
              "      <th>catboost</th>\n",
              "      <td>CatBoost Classifier</td>\n",
              "      <td>0.9115</td>\n",
              "      <td>0.0</td>\n",
              "      <td>0.7771</td>\n",
              "      <td>0.9096</td>\n",
              "      <td>0.9087</td>\n",
              "      <td>0.8934</td>\n",
              "      <td>0.8936</td>\n",
              "      <td>66.916</td>\n",
              "    </tr>\n",
              "    <tr>\n",
              "      <th>dt</th>\n",
              "      <td>Decision Tree Classifier</td>\n",
              "      <td>0.8931</td>\n",
              "      <td>0.0</td>\n",
              "      <td>0.7701</td>\n",
              "      <td>0.8932</td>\n",
              "      <td>0.8931</td>\n",
              "      <td>0.8718</td>\n",
              "      <td>0.8718</td>\n",
              "      <td>0.264</td>\n",
              "    </tr>\n",
              "    <tr>\n",
              "      <th>gbc</th>\n",
              "      <td>Gradient Boosting Classifier</td>\n",
              "      <td>0.8777</td>\n",
              "      <td>0.0</td>\n",
              "      <td>0.7113</td>\n",
              "      <td>0.8747</td>\n",
              "      <td>0.8706</td>\n",
              "      <td>0.8524</td>\n",
              "      <td>0.8531</td>\n",
              "      <td>69.866</td>\n",
              "    </tr>\n",
              "    <tr>\n",
              "      <th>knn</th>\n",
              "      <td>K Neighbors Classifier</td>\n",
              "      <td>0.8473</td>\n",
              "      <td>0.0</td>\n",
              "      <td>0.6977</td>\n",
              "      <td>0.8465</td>\n",
              "      <td>0.8458</td>\n",
              "      <td>0.8164</td>\n",
              "      <td>0.8166</td>\n",
              "      <td>0.626</td>\n",
              "    </tr>\n",
              "    <tr>\n",
              "      <th>lightgbm</th>\n",
              "      <td>Light Gradient Boosting Machine</td>\n",
              "      <td>0.7525</td>\n",
              "      <td>0.0</td>\n",
              "      <td>0.5333</td>\n",
              "      <td>0.7701</td>\n",
              "      <td>0.7566</td>\n",
              "      <td>0.7040</td>\n",
              "      <td>0.7060</td>\n",
              "      <td>4.576</td>\n",
              "    </tr>\n",
              "  </tbody>\n",
              "</table>\n",
              "</div>"
            ],
            "text/plain": [
              "                                    Model  Accuracy  AUC  Recall   Prec.  \\\n",
              "xgboost         Extreme Gradient Boosting    0.9357  0.0  0.8376  0.9351   \n",
              "rf               Random Forest Classifier    0.9221  0.0  0.7985  0.9209   \n",
              "et                 Extra Trees Classifier    0.9104  0.0  0.8036  0.9094   \n",
              "catboost              CatBoost Classifier    0.9115  0.0  0.7771  0.9096   \n",
              "dt               Decision Tree Classifier    0.8931  0.0  0.7701  0.8932   \n",
              "gbc          Gradient Boosting Classifier    0.8777  0.0  0.7113  0.8747   \n",
              "knn                K Neighbors Classifier    0.8473  0.0  0.6977  0.8465   \n",
              "lightgbm  Light Gradient Boosting Machine    0.7525  0.0  0.5333  0.7701   \n",
              "\n",
              "              F1   Kappa     MCC  TT (Sec)  \n",
              "xgboost   0.9348  0.9227  0.9228    57.546  \n",
              "rf        0.9200  0.9062  0.9064     4.700  \n",
              "et        0.9091  0.8922  0.8923     3.422  \n",
              "catboost  0.9087  0.8934  0.8936    66.916  \n",
              "dt        0.8931  0.8718  0.8718     0.264  \n",
              "gbc       0.8706  0.8524  0.8531    69.866  \n",
              "knn       0.8458  0.8164  0.8166     0.626  \n",
              "lightgbm  0.7566  0.7040  0.7060     4.576  "
            ]
          },
          "metadata": {
            "tags": []
          }
        },
        {
          "output_type": "stream",
          "text": [
            "CPU times: user 4min 22s, sys: 3.98 s, total: 4min 26s\n",
            "Wall time: 19min 38s\n"
          ],
          "name": "stdout"
        }
      ]
    },
    {
      "cell_type": "code",
      "metadata": {
        "id": "lkd9yn3nTY4b"
      },
      "source": [
        "stack_models(estimator_list=best_models, fold=5, round=4, method='soft', optimize='F1')"
      ],
      "execution_count": null,
      "outputs": []
    },
    {
      "cell_type": "code",
      "metadata": {
        "colab": {
          "base_uri": "https://localhost:8080/",
          "height": 492,
          "referenced_widgets": [
            "11b5307b0c5c441f9c21dda98ef01a46",
            "6f26952e82d249d5b181e593f18aa66e",
            "b2434282f3a248a988de2d26c0a9c1a5",
            "035a585dc4b344bfbb095d6fe8724373",
            "41bc008ab91b4c5fa183ecb50d471c34",
            "135162e5b6c84ca1b10da3e89a45f886",
            "f09780868001488daf00cc65a201f099",
            "b4d8701fa32147e59e8d77f4a03b938d",
            "e88cf197262444f3a3813daffc4ba534",
            "f5bb4970df7b4399a5aef0532d2d1ce3",
            "eff4ed8864c2433e86be7553abc51072",
            "159cce8ad15b4413930171bbaf48fac0",
            "a97d1a091c3d4f00ba00a6715874780f",
            "05d832b512bc4ba0a4559cd5bca1fcbd",
            "2744748f3d3e4d7f94da2382301aa610",
            "fbe5230c32714b918e2da72deb999bd4",
            "bf760361392f4655b340991e4ca6375b",
            "99e5f1512e324da4a2eb97f1375df734",
            "e19246212add4b0ba9645e844e1d73b1",
            "a37b6573a19d47e7ad45d62044e84117",
            "1645e9822131460f98b58c749d10a293",
            "1344621875e440f6a14be50d33089eec"
          ]
        },
        "id": "41T2SFlt81CB",
        "outputId": "20a145a6-a09b-4b86-9591-597382aa59ec"
      },
      "source": [
        "evaluate_model(best_models[0])"
      ],
      "execution_count": null,
      "outputs": [
        {
          "output_type": "display_data",
          "data": {
            "application/vnd.jupyter.widget-view+json": {
              "model_id": "11b5307b0c5c441f9c21dda98ef01a46",
              "version_minor": 0,
              "version_major": 2
            },
            "text/plain": [
              "interactive(children=(ToggleButtons(description='Plot Type:', icons=('',), options=(('Hyperparameters', 'param…"
            ]
          },
          "metadata": {
            "tags": []
          }
        }
      ]
    },
    {
      "cell_type": "code",
      "metadata": {
        "id": "DuTP7_qCU3g1"
      },
      "source": [
        "#!pip install shap"
      ],
      "execution_count": null,
      "outputs": []
    },
    {
      "cell_type": "code",
      "metadata": {
        "colab": {
          "base_uri": "https://localhost:8080/",
          "height": 363
        },
        "id": "tl6IUmzw82a7",
        "outputId": "2db87441-7f29-4c49-8417-4c311d9fc705"
      },
      "source": [
        "interpret_model(best_models[0], plot = 'summary')"
      ],
      "execution_count": null,
      "outputs": [
        {
          "output_type": "display_data",
          "data": {
            "image/png": "[encoded data removed]",
            "text/plain": [
              "<Figure size 576x396 with 1 Axes>"
            ]
          },
          "metadata": {
            "tags": []
          }
        }
      ]
    },
    {
      "cell_type": "code",
      "metadata": {
        "colab": {
          "base_uri": "https://localhost:8080/"
        },
        "id": "bk-7I5K79MKy",
        "outputId": "e40c9fa9-57e2-4642-d28c-55464f3de44c"
      },
      "source": [
        "%%time\n",
        "final_model = finalize_model(best_models[0])"
      ],
      "execution_count": null,
      "outputs": [
        {
          "output_type": "stream",
          "text": [
            "CPU times: user 2min 3s, sys: 656 ms, total: 2min 4s\n",
            "Wall time: 17min 11s\n"
          ],
          "name": "stdout"
        }
      ]
    },
    {
      "cell_type": "code",
      "metadata": {
        "colab": {
          "base_uri": "https://localhost:8080/",
          "height": 204
        },
        "id": "HdTZFiR-WAY6",
        "outputId": "7570da06-b9f4-453c-f5e4-d57b6a4967fd"
      },
      "source": [
        "val_df = pd.read_csv(VAL)\n",
        "val_df['D_Env'] = val_df['DEPOSITIONAL_ENVIRONMENT'].apply(lambda x: MAPPING[x])\n",
        "val_df.head()"
      ],
      "execution_count": null,
      "outputs": [
        {
          "output_type": "execute_result",
          "data": {
            "text/html": [
              "<div>\n",
              "<style scoped>\n",
              "    .dataframe tbody tr th:only-of-type {\n",
              "        vertical-align: middle;\n",
              "    }\n",
              "\n",
              "    .dataframe tbody tr th {\n",
              "        vertical-align: top;\n",
              "    }\n",
              "\n",
              "    .dataframe thead th {\n",
              "        text-align: right;\n",
              "    }\n",
              "</style>\n",
              "<table border=\"1\" class=\"dataframe\">\n",
              "  <thead>\n",
              "    <tr style=\"text-align: right;\">\n",
              "      <th></th>\n",
              "      <th>WELL</th>\n",
              "      <th>X</th>\n",
              "      <th>Y</th>\n",
              "      <th>MD</th>\n",
              "      <th>GR</th>\n",
              "      <th>RT</th>\n",
              "      <th>CN</th>\n",
              "      <th>DEN</th>\n",
              "      <th>DEPOSITIONAL_ENVIRONMENT</th>\n",
              "      <th>D_Env</th>\n",
              "    </tr>\n",
              "  </thead>\n",
              "  <tbody>\n",
              "    <tr>\n",
              "      <th>0</th>\n",
              "      <td>Well-X</td>\n",
              "      <td>2.9956</td>\n",
              "      <td>0.0061</td>\n",
              "      <td>897.065</td>\n",
              "      <td>92.7094</td>\n",
              "      <td>4.51768</td>\n",
              "      <td>0.36366</td>\n",
              "      <td>2.2106</td>\n",
              "      <td>Continental</td>\n",
              "      <td>1</td>\n",
              "    </tr>\n",
              "    <tr>\n",
              "      <th>1</th>\n",
              "      <td>Well-X</td>\n",
              "      <td>2.9956</td>\n",
              "      <td>0.0061</td>\n",
              "      <td>897.165</td>\n",
              "      <td>93.9007</td>\n",
              "      <td>4.30683</td>\n",
              "      <td>0.36951</td>\n",
              "      <td>2.2036</td>\n",
              "      <td>Continental</td>\n",
              "      <td>1</td>\n",
              "    </tr>\n",
              "    <tr>\n",
              "      <th>2</th>\n",
              "      <td>Well-X</td>\n",
              "      <td>2.9956</td>\n",
              "      <td>0.0061</td>\n",
              "      <td>897.265</td>\n",
              "      <td>94.8446</td>\n",
              "      <td>3.98902</td>\n",
              "      <td>0.37914</td>\n",
              "      <td>2.1969</td>\n",
              "      <td>Continental</td>\n",
              "      <td>1</td>\n",
              "    </tr>\n",
              "    <tr>\n",
              "      <th>3</th>\n",
              "      <td>Well-X</td>\n",
              "      <td>2.9956</td>\n",
              "      <td>0.0061</td>\n",
              "      <td>897.365</td>\n",
              "      <td>95.6321</td>\n",
              "      <td>3.67028</td>\n",
              "      <td>0.39020</td>\n",
              "      <td>2.1923</td>\n",
              "      <td>Continental</td>\n",
              "      <td>1</td>\n",
              "    </tr>\n",
              "    <tr>\n",
              "      <th>4</th>\n",
              "      <td>Well-X</td>\n",
              "      <td>2.9956</td>\n",
              "      <td>0.0061</td>\n",
              "      <td>897.465</td>\n",
              "      <td>96.4700</td>\n",
              "      <td>3.63431</td>\n",
              "      <td>0.40098</td>\n",
              "      <td>2.1926</td>\n",
              "      <td>Continental</td>\n",
              "      <td>1</td>\n",
              "    </tr>\n",
              "  </tbody>\n",
              "</table>\n",
              "</div>"
            ],
            "text/plain": [
              "     WELL       X       Y  ...     DEN  DEPOSITIONAL_ENVIRONMENT  D_Env\n",
              "0  Well-X  2.9956  0.0061  ...  2.2106               Continental      1\n",
              "1  Well-X  2.9956  0.0061  ...  2.2036               Continental      1\n",
              "2  Well-X  2.9956  0.0061  ...  2.1969               Continental      1\n",
              "3  Well-X  2.9956  0.0061  ...  2.1923               Continental      1\n",
              "4  Well-X  2.9956  0.0061  ...  2.1926               Continental      1\n",
              "\n",
              "[5 rows x 10 columns]"
            ]
          },
          "metadata": {
            "tags": []
          },
          "execution_count": 53
        }
      ]
    },
    {
      "cell_type": "code",
      "metadata": {
        "id": "jZangjAS9HSz"
      },
      "source": [
        "preds = predict_model(final_model, data=val_df.drop(['WELL', 'DEPOSITIONAL_ENVIRONMENT'], axis=1))"
      ],
      "execution_count": null,
      "outputs": []
    },
    {
      "cell_type": "code",
      "metadata": {
        "colab": {
          "base_uri": "https://localhost:8080/"
        },
        "id": "eQUUsKZBe4Jx",
        "outputId": "1e12030b-888a-4f6f-e582-b7a6ee337605"
      },
      "source": [
        "preds['Label'].value_counts()"
      ],
      "execution_count": null,
      "outputs": [
        {
          "output_type": "execute_result",
          "data": {
            "text/plain": [
              "600     6969\n",
              "400     4386\n",
              "1300    3911\n",
              "1400    3196\n",
              "500     2508\n",
              "100     2399\n",
              "1000    1924\n",
              "1500    1474\n",
              "1200     792\n",
              "1100     745\n",
              "300      446\n",
              "800      247\n",
              "Name: Label, dtype: int64"
            ]
          },
          "metadata": {
            "tags": []
          },
          "execution_count": 60
        }
      ]
    },
    {
      "cell_type": "code",
      "metadata": {
        "id": "vu8ntNuVbMUP"
      },
      "source": [
        "np.savetxt('prediction.csv', preds, delimiter=',', encoding='utf-8') "
      ],
      "execution_count": null,
      "outputs": []
    },
    {
      "cell_type": "code",
      "metadata": {
        "colab": {
          "base_uri": "https://localhost:8080/"
        },
        "id": "GE-wxtjQ9Jbx",
        "outputId": "3cb6ae1d-e21c-4eb0-f1fe-6ae48bbbea02"
      },
      "source": [
        "save_model(final_model, 'model_xgb_15_05_1')"
      ],
      "execution_count": null,
      "outputs": [
        {
          "output_type": "stream",
          "text": [
            "Transformation Pipeline and Model Succesfully Saved\n"
          ],
          "name": "stdout"
        },
        {
          "output_type": "execute_result",
          "data": {
            "text/plain": [
              "(Pipeline(memory=None,\n",
              "          steps=[('dtypes',\n",
              "                  DataTypes_Auto_infer(categorical_features=[],\n",
              "                                       display_types=True, features_todrop=[],\n",
              "                                       id_columns=[],\n",
              "                                       ml_usecase='classification',\n",
              "                                       numerical_features=[], target='LITH_CODE',\n",
              "                                       time_features=[])),\n",
              "                 ('imputer',\n",
              "                  Simple_Imputer(categorical_strategy='not_available',\n",
              "                                 fill_value_categorical=None,\n",
              "                                 fill_value_numerical=None,\n",
              "                                 numeric_st...\n",
              "                                learning_rate=0.300000012, max_delta_step=0,\n",
              "                                max_depth=6, min_child_weight=1, missing=nan,\n",
              "                                monotone_constraints='()', n_estimators=100,\n",
              "                                n_jobs=-1, num_parallel_tree=1,\n",
              "                                objective='multi:softprob', random_state=1616,\n",
              "                                reg_alpha=0, reg_lambda=1, scale_pos_weight=None,\n",
              "                                subsample=1, tree_method='auto',\n",
              "                                use_label_encoder=True, validate_parameters=1,\n",
              "                                verbosity=0)]],\n",
              "          verbose=False), 'model_xgb_15_05_1.pkl')"
            ]
          },
          "metadata": {
            "tags": []
          },
          "execution_count": 62
        }
      ]
    }
  ]
}